{
 "cells": [
  {
   "cell_type": "markdown",
   "id": "4877a9a7",
   "metadata": {
    "papermill": {
     "duration": 0.017358,
     "end_time": "2025-04-17T16:04:28.147251",
     "exception": false,
     "start_time": "2025-04-17T16:04:28.129893",
     "status": "completed"
    },
    "tags": []
   },
   "source": [
    "# Deep Learning Project 2"
   ]
  },
  {
   "cell_type": "markdown",
   "id": "bdcc5329",
   "metadata": {
    "id": "bdcc5329",
    "papermill": {
     "duration": 0.014069,
     "end_time": "2025-04-17T16:04:28.179381",
     "exception": false,
     "start_time": "2025-04-17T16:04:28.165312",
     "status": "completed"
    },
    "tags": []
   },
   "source": [
    "Install and import required libraries"
   ]
  },
  {
   "cell_type": "code",
   "execution_count": 1,
   "id": "348ceed6-b684-46c3-8a32-9bb640c9a9d7",
   "metadata": {
    "execution": {
     "iopub.execute_input": "2025-04-17T16:04:28.210245Z",
     "iopub.status.busy": "2025-04-17T16:04:28.209612Z",
     "iopub.status.idle": "2025-04-17T16:04:32.462233Z",
     "shell.execute_reply": "2025-04-17T16:04:32.461548Z"
    },
    "id": "348ceed6-b684-46c3-8a32-9bb640c9a9d7",
    "papermill": {
     "duration": 4.270123,
     "end_time": "2025-04-17T16:04:32.463653",
     "exception": false,
     "start_time": "2025-04-17T16:04:28.193530",
     "status": "completed"
    },
    "tags": []
   },
   "outputs": [
    {
     "name": "stdout",
     "output_type": "stream",
     "text": [
      "Requirement already satisfied: transformers in /ext3/miniconda3/lib/python3.12/site-packages (4.51.3)\r\n",
      "Requirement already satisfied: datasets in /ext3/miniconda3/lib/python3.12/site-packages (3.5.0)\r\n",
      "Requirement already satisfied: evaluate in /ext3/miniconda3/lib/python3.12/site-packages (0.4.3)\r\n",
      "Requirement already satisfied: accelerate in /ext3/miniconda3/lib/python3.12/site-packages (1.6.0)\r\n",
      "Requirement already satisfied: peft in /ext3/miniconda3/lib/python3.12/site-packages (0.15.2)\r\n",
      "Requirement already satisfied: trl in /ext3/miniconda3/lib/python3.12/site-packages (0.16.1)\r\n",
      "Requirement already satisfied: bitsandbytes in /ext3/miniconda3/lib/python3.12/site-packages (0.45.5)\r\n"
     ]
    },
    {
     "name": "stdout",
     "output_type": "stream",
     "text": [
      "Requirement already satisfied: filelock in /ext3/miniconda3/lib/python3.12/site-packages (from transformers) (3.17.0)\r\n",
      "Requirement already satisfied: huggingface-hub<1.0,>=0.30.0 in /ext3/miniconda3/lib/python3.12/site-packages (from transformers) (0.30.2)\r\n",
      "Requirement already satisfied: numpy>=1.17 in /ext3/miniconda3/lib/python3.12/site-packages (from transformers) (2.0.2)\r\n",
      "Requirement already satisfied: packaging>=20.0 in /ext3/miniconda3/lib/python3.12/site-packages (from transformers) (24.2)\r\n",
      "Requirement already satisfied: pyyaml>=5.1 in /ext3/miniconda3/lib/python3.12/site-packages (from transformers) (6.0.2)\r\n",
      "Requirement already satisfied: regex!=2019.12.17 in /ext3/miniconda3/lib/python3.12/site-packages (from transformers) (2024.11.6)\r\n",
      "Requirement already satisfied: requests in /ext3/miniconda3/lib/python3.12/site-packages (from transformers) (2.32.3)\r\n",
      "Requirement already satisfied: tokenizers<0.22,>=0.21 in /ext3/miniconda3/lib/python3.12/site-packages (from transformers) (0.21.1)\r\n",
      "Requirement already satisfied: safetensors>=0.4.3 in /ext3/miniconda3/lib/python3.12/site-packages (from transformers) (0.5.3)\r\n",
      "Requirement already satisfied: tqdm>=4.27 in /ext3/miniconda3/lib/python3.12/site-packages (from transformers) (4.67.1)\r\n",
      "Requirement already satisfied: pyarrow>=15.0.0 in /ext3/miniconda3/lib/python3.12/site-packages (from datasets) (19.0.1)\r\n",
      "Requirement already satisfied: dill<0.3.9,>=0.3.0 in /ext3/miniconda3/lib/python3.12/site-packages (from datasets) (0.3.8)\r\n",
      "Requirement already satisfied: pandas in /ext3/miniconda3/lib/python3.12/site-packages (from datasets) (2.2.3)\r\n",
      "Requirement already satisfied: xxhash in /ext3/miniconda3/lib/python3.12/site-packages (from datasets) (3.5.0)\r\n",
      "Requirement already satisfied: multiprocess<0.70.17 in /ext3/miniconda3/lib/python3.12/site-packages (from datasets) (0.70.16)\r\n",
      "Requirement already satisfied: fsspec<=2024.12.0,>=2023.1.0 in /ext3/miniconda3/lib/python3.12/site-packages (from fsspec[http]<=2024.12.0,>=2023.1.0->datasets) (2024.12.0)\r\n",
      "Requirement already satisfied: aiohttp in /ext3/miniconda3/lib/python3.12/site-packages (from datasets) (3.11.16)\r\n"
     ]
    },
    {
     "name": "stdout",
     "output_type": "stream",
     "text": [
      "Requirement already satisfied: psutil in /ext3/miniconda3/lib/python3.12/site-packages (from accelerate) (7.0.0)\r\n",
      "Requirement already satisfied: torch>=2.0.0 in /ext3/miniconda3/lib/python3.12/site-packages (from accelerate) (2.6.0)\r\n",
      "Requirement already satisfied: rich in /ext3/miniconda3/lib/python3.12/site-packages (from trl) (13.9.4)\r\n",
      "Requirement already satisfied: aiohappyeyeballs>=2.3.0 in /ext3/miniconda3/lib/python3.12/site-packages (from aiohttp->datasets) (2.6.1)\r\n",
      "Requirement already satisfied: aiosignal>=1.1.2 in /ext3/miniconda3/lib/python3.12/site-packages (from aiohttp->datasets) (1.3.2)\r\n",
      "Requirement already satisfied: attrs>=17.3.0 in /ext3/miniconda3/lib/python3.12/site-packages (from aiohttp->datasets) (25.3.0)\r\n",
      "Requirement already satisfied: frozenlist>=1.1.1 in /ext3/miniconda3/lib/python3.12/site-packages (from aiohttp->datasets) (1.5.0)\r\n"
     ]
    },
    {
     "name": "stdout",
     "output_type": "stream",
     "text": [
      "Requirement already satisfied: multidict<7.0,>=4.5 in /ext3/miniconda3/lib/python3.12/site-packages (from aiohttp->datasets) (6.3.2)\r\n",
      "Requirement already satisfied: propcache>=0.2.0 in /ext3/miniconda3/lib/python3.12/site-packages (from aiohttp->datasets) (0.3.1)\r\n",
      "Requirement already satisfied: yarl<2.0,>=1.17.0 in /ext3/miniconda3/lib/python3.12/site-packages (from aiohttp->datasets) (1.18.3)\r\n",
      "Requirement already satisfied: typing-extensions>=3.7.4.3 in /ext3/miniconda3/lib/python3.12/site-packages (from huggingface-hub<1.0,>=0.30.0->transformers) (4.12.2)\r\n",
      "Requirement already satisfied: charset-normalizer<4,>=2 in /ext3/miniconda3/lib/python3.12/site-packages (from requests->transformers) (3.3.2)\r\n",
      "Requirement already satisfied: idna<4,>=2.5 in /ext3/miniconda3/lib/python3.12/site-packages (from requests->transformers) (3.7)\r\n",
      "Requirement already satisfied: urllib3<3,>=1.21.1 in /ext3/miniconda3/lib/python3.12/site-packages (from requests->transformers) (2.3.0)\r\n",
      "Requirement already satisfied: certifi>=2017.4.17 in /ext3/miniconda3/lib/python3.12/site-packages (from requests->transformers) (2025.1.31)\r\n",
      "Requirement already satisfied: networkx in /ext3/miniconda3/lib/python3.12/site-packages (from torch>=2.0.0->accelerate) (3.4.2)\r\n",
      "Requirement already satisfied: jinja2 in /ext3/miniconda3/lib/python3.12/site-packages (from torch>=2.0.0->accelerate) (3.1.6)\r\n",
      "Requirement already satisfied: nvidia-cuda-nvrtc-cu12==12.4.127 in /ext3/miniconda3/lib/python3.12/site-packages (from torch>=2.0.0->accelerate) (12.4.127)\r\n",
      "Requirement already satisfied: nvidia-cuda-runtime-cu12==12.4.127 in /ext3/miniconda3/lib/python3.12/site-packages (from torch>=2.0.0->accelerate) (12.4.127)\r\n",
      "Requirement already satisfied: nvidia-cuda-cupti-cu12==12.4.127 in /ext3/miniconda3/lib/python3.12/site-packages (from torch>=2.0.0->accelerate) (12.4.127)\r\n",
      "Requirement already satisfied: nvidia-cudnn-cu12==9.1.0.70 in /ext3/miniconda3/lib/python3.12/site-packages (from torch>=2.0.0->accelerate) (9.1.0.70)\r\n",
      "Requirement already satisfied: nvidia-cublas-cu12==12.4.5.8 in /ext3/miniconda3/lib/python3.12/site-packages (from torch>=2.0.0->accelerate) (12.4.5.8)\r\n",
      "Requirement already satisfied: nvidia-cufft-cu12==11.2.1.3 in /ext3/miniconda3/lib/python3.12/site-packages (from torch>=2.0.0->accelerate) (11.2.1.3)\r\n",
      "Requirement already satisfied: nvidia-curand-cu12==10.3.5.147 in /ext3/miniconda3/lib/python3.12/site-packages (from torch>=2.0.0->accelerate) (10.3.5.147)\r\n",
      "Requirement already satisfied: nvidia-cusolver-cu12==11.6.1.9 in /ext3/miniconda3/lib/python3.12/site-packages (from torch>=2.0.0->accelerate) (11.6.1.9)\r\n",
      "Requirement already satisfied: nvidia-cusparse-cu12==12.3.1.170 in /ext3/miniconda3/lib/python3.12/site-packages (from torch>=2.0.0->accelerate) (12.3.1.170)\r\n",
      "Requirement already satisfied: nvidia-cusparselt-cu12==0.6.2 in /ext3/miniconda3/lib/python3.12/site-packages (from torch>=2.0.0->accelerate) (0.6.2)\r\n"
     ]
    },
    {
     "name": "stdout",
     "output_type": "stream",
     "text": [
      "Requirement already satisfied: nvidia-nccl-cu12==2.21.5 in /ext3/miniconda3/lib/python3.12/site-packages (from torch>=2.0.0->accelerate) (2.21.5)\r\n",
      "Requirement already satisfied: nvidia-nvtx-cu12==12.4.127 in /ext3/miniconda3/lib/python3.12/site-packages (from torch>=2.0.0->accelerate) (12.4.127)\r\n",
      "Requirement already satisfied: nvidia-nvjitlink-cu12==12.4.127 in /ext3/miniconda3/lib/python3.12/site-packages (from torch>=2.0.0->accelerate) (12.4.127)\r\n",
      "Requirement already satisfied: triton==3.2.0 in /ext3/miniconda3/lib/python3.12/site-packages (from torch>=2.0.0->accelerate) (3.2.0)\r\n",
      "Requirement already satisfied: setuptools in /ext3/miniconda3/lib/python3.12/site-packages (from torch>=2.0.0->accelerate) (75.8.0)\r\n",
      "Requirement already satisfied: sympy==1.13.1 in /ext3/miniconda3/lib/python3.12/site-packages (from torch>=2.0.0->accelerate) (1.13.1)\r\n",
      "Requirement already satisfied: mpmath<1.4,>=1.1.0 in /ext3/miniconda3/lib/python3.12/site-packages (from sympy==1.13.1->torch>=2.0.0->accelerate) (1.3.0)\r\n"
     ]
    },
    {
     "name": "stdout",
     "output_type": "stream",
     "text": [
      "Requirement already satisfied: python-dateutil>=2.8.2 in /ext3/miniconda3/lib/python3.12/site-packages (from pandas->datasets) (2.9.0.post0)\r\n",
      "Requirement already satisfied: pytz>=2020.1 in /ext3/miniconda3/lib/python3.12/site-packages (from pandas->datasets) (2025.1)\r\n",
      "Requirement already satisfied: tzdata>=2022.7 in /ext3/miniconda3/lib/python3.12/site-packages (from pandas->datasets) (2025.1)\r\n",
      "Requirement already satisfied: markdown-it-py>=2.2.0 in /ext3/miniconda3/lib/python3.12/site-packages (from rich->trl) (2.2.0)\r\n",
      "Requirement already satisfied: pygments<3.0.0,>=2.13.0 in /ext3/miniconda3/lib/python3.12/site-packages (from rich->trl) (2.15.1)\r\n",
      "Requirement already satisfied: mdurl~=0.1 in /ext3/miniconda3/lib/python3.12/site-packages (from markdown-it-py>=2.2.0->rich->trl) (0.1.0)\r\n",
      "Requirement already satisfied: six>=1.5 in /ext3/miniconda3/lib/python3.12/site-packages (from python-dateutil>=2.8.2->pandas->datasets) (1.17.0)\r\n"
     ]
    },
    {
     "name": "stdout",
     "output_type": "stream",
     "text": [
      "Requirement already satisfied: MarkupSafe>=2.0 in /ext3/miniconda3/lib/python3.12/site-packages (from jinja2->torch>=2.0.0->accelerate) (3.0.2)\r\n"
     ]
    },
    {
     "name": "stdout",
     "output_type": "stream",
     "text": [
      "Requirement already satisfied: nvidia-ml-py3 in /ext3/miniconda3/lib/python3.12/site-packages (7.352.0)\r\n"
     ]
    },
    {
     "name": "stdout",
     "output_type": "stream",
     "text": [
      "Requirement already satisfied: torchinfo in /ext3/miniconda3/lib/python3.12/site-packages (1.8.0)\r\n"
     ]
    }
   ],
   "source": [
    "!pip install transformers datasets evaluate accelerate peft trl bitsandbytes\n",
    "!pip install nvidia-ml-py3\n",
    "!pip install torchinfo\n"
   ]
  },
  {
   "cell_type": "code",
   "execution_count": 2,
   "id": "cca64f38-d8d2-4313-8295-fbbd43c2a263",
   "metadata": {
    "execution": {
     "iopub.execute_input": "2025-04-17T16:04:32.500201Z",
     "iopub.status.busy": "2025-04-17T16:04:32.499599Z",
     "iopub.status.idle": "2025-04-17T16:04:38.398679Z",
     "shell.execute_reply": "2025-04-17T16:04:38.397905Z"
    },
    "id": "cca64f38-d8d2-4313-8295-fbbd43c2a263",
    "papermill": {
     "duration": 5.915002,
     "end_time": "2025-04-17T16:04:38.400072",
     "exception": false,
     "start_time": "2025-04-17T16:04:32.485070",
     "status": "completed"
    },
    "tags": []
   },
   "outputs": [],
   "source": [
    "# Standard libraries\n",
    "import os\n",
    "import pickle\n",
    "import random\n",
    "from collections import defaultdict\n",
    "\n",
    "# Data processing and visualization libraries\n",
    "import numpy as np\n",
    "import pandas as pd\n",
    "import matplotlib.pyplot as plt\n",
    "import seaborn as sns\n",
    "\n",
    "import torch\n",
    "from torch.utils.data import DataLoader\n",
    "from torchinfo import summary\n",
    "from tqdm import tqdm\n",
    "\n",
    "from datasets import load_dataset, Dataset, ClassLabel\n",
    "from transformers import (\n",
    "    RobertaModel,\n",
    "    RobertaTokenizer,\n",
    "    RobertaForSequenceClassification,\n",
    "    TrainingArguments,\n",
    "    Trainer,\n",
    "    EarlyStoppingCallback,\n",
    "    DataCollatorWithPadding,\n",
    "    get_scheduler\n",
    ")\n",
    "\n",
    "from peft import LoraConfig, get_peft_model, PeftModel, TaskType\n",
    "\n",
    "import evaluate\n",
    "from sklearn.metrics import (\n",
    "    accuracy_score,\n",
    "    precision_score,\n",
    "    recall_score,\n",
    "    f1_score,\n",
    "    classification_report\n",
    ")\n",
    "from tabulate import tabulate\n"
   ]
  },
  {
   "cell_type": "markdown",
   "id": "59d6e377",
   "metadata": {
    "id": "59d6e377",
    "papermill": {
     "duration": 0.026537,
     "end_time": "2025-04-17T16:04:38.450740",
     "exception": false,
     "start_time": "2025-04-17T16:04:38.424203",
     "status": "completed"
    },
    "tags": []
   },
   "source": [
    "## Load Tokenizer and Preprocess Data"
   ]
  },
  {
   "cell_type": "code",
   "execution_count": 3,
   "id": "21f42747-f551-40a5-a95f-7affb1eba4a3",
   "metadata": {
    "execution": {
     "iopub.execute_input": "2025-04-17T16:04:38.489860Z",
     "iopub.status.busy": "2025-04-17T16:04:38.489003Z",
     "iopub.status.idle": "2025-04-17T16:04:41.463142Z",
     "shell.execute_reply": "2025-04-17T16:04:41.462338Z"
    },
    "id": "21f42747-f551-40a5-a95f-7affb1eba4a3",
    "papermill": {
     "duration": 2.994199,
     "end_time": "2025-04-17T16:04:41.464558",
     "exception": false,
     "start_time": "2025-04-17T16:04:38.470359",
     "status": "completed"
    },
    "tags": []
   },
   "outputs": [],
   "source": [
    "base_model = 'roberta-base'\n",
    "\n",
    "dataset = load_dataset('ag_news', split='train')\n",
    "tokenizer = RobertaTokenizer.from_pretrained(base_model)\n",
    "\n",
    "def preprocess(examples):\n",
    "    tokenized = tokenizer(examples['text'], truncation=True, padding=True)\n",
    "    return tokenized\n",
    "\n",
    "tokenized_dataset = dataset.map(preprocess, batched=True,  remove_columns=[\"text\"])\n",
    "tokenized_dataset = tokenized_dataset.rename_column(\"label\", \"labels\")"
   ]
  },
  {
   "cell_type": "code",
   "execution_count": 4,
   "id": "9e07f641-bec0-43a6-8c26-510d7642916a",
   "metadata": {
    "execution": {
     "iopub.execute_input": "2025-04-17T16:04:41.507326Z",
     "iopub.status.busy": "2025-04-17T16:04:41.507011Z",
     "iopub.status.idle": "2025-04-17T16:04:41.511978Z",
     "shell.execute_reply": "2025-04-17T16:04:41.511348Z"
    },
    "id": "9e07f641-bec0-43a6-8c26-510d7642916a",
    "papermill": {
     "duration": 0.032789,
     "end_time": "2025-04-17T16:04:41.512946",
     "exception": false,
     "start_time": "2025-04-17T16:04:41.480157",
     "status": "completed"
    },
    "tags": []
   },
   "outputs": [
    {
     "name": "stdout",
     "output_type": "stream",
     "text": [
      "number of labels: 4\n",
      "the labels: ['World', 'Sports', 'Business', 'Sci/Tech']\n"
     ]
    }
   ],
   "source": [
    "# Extract the number of classess and their names\n",
    "num_labels = dataset.features['label'].num_classes\n",
    "class_names = dataset.features[\"label\"].names\n",
    "print(f\"number of labels: {num_labels}\")\n",
    "print(f\"the labels: {class_names}\")\n",
    "\n",
    "# Create an id2label mapping\n",
    "# We will need this for our classifier.\n",
    "id2label = {i: label for i, label in enumerate(class_names)}\n",
    "\n",
    "data_collator = DataCollatorWithPadding(tokenizer=tokenizer, return_tensors=\"pt\")\n"
   ]
  },
  {
   "cell_type": "markdown",
   "id": "c9e24afd",
   "metadata": {
    "id": "c9e24afd",
    "papermill": {
     "duration": 0.021475,
     "end_time": "2025-04-17T16:04:41.557645",
     "exception": false,
     "start_time": "2025-04-17T16:04:41.536170",
     "status": "completed"
    },
    "tags": []
   },
   "source": [
    "## Load Pre-trained Model\n",
    "Set up config for pretrained model and download it from hugging face"
   ]
  },
  {
   "cell_type": "code",
   "execution_count": 5,
   "id": "262a8416-a59c-4ea1-95d9-0b1f81d6094c",
   "metadata": {
    "execution": {
     "iopub.execute_input": "2025-04-17T16:04:41.593136Z",
     "iopub.status.busy": "2025-04-17T16:04:41.592388Z",
     "iopub.status.idle": "2025-04-17T16:04:42.147907Z",
     "shell.execute_reply": "2025-04-17T16:04:42.147203Z"
    },
    "id": "262a8416-a59c-4ea1-95d9-0b1f81d6094c",
    "papermill": {
     "duration": 0.572895,
     "end_time": "2025-04-17T16:04:42.149015",
     "exception": false,
     "start_time": "2025-04-17T16:04:41.576120",
     "status": "completed"
    },
    "tags": []
   },
   "outputs": [
    {
     "name": "stderr",
     "output_type": "stream",
     "text": [
      "Some weights of RobertaForSequenceClassification were not initialized from the model checkpoint at roberta-base and are newly initialized: ['classifier.dense.bias', 'classifier.dense.weight', 'classifier.out_proj.bias', 'classifier.out_proj.weight']\n",
      "You should probably TRAIN this model on a down-stream task to be able to use it for predictions and inference.\n"
     ]
    },
    {
     "data": {
      "text/plain": [
       "RobertaForSequenceClassification(\n",
       "  (roberta): RobertaModel(\n",
       "    (embeddings): RobertaEmbeddings(\n",
       "      (word_embeddings): Embedding(50265, 768, padding_idx=1)\n",
       "      (position_embeddings): Embedding(514, 768, padding_idx=1)\n",
       "      (token_type_embeddings): Embedding(1, 768)\n",
       "      (LayerNorm): LayerNorm((768,), eps=1e-05, elementwise_affine=True)\n",
       "      (dropout): Dropout(p=0.1, inplace=False)\n",
       "    )\n",
       "    (encoder): RobertaEncoder(\n",
       "      (layer): ModuleList(\n",
       "        (0-11): 12 x RobertaLayer(\n",
       "          (attention): RobertaAttention(\n",
       "            (self): RobertaSdpaSelfAttention(\n",
       "              (query): Linear(in_features=768, out_features=768, bias=True)\n",
       "              (key): Linear(in_features=768, out_features=768, bias=True)\n",
       "              (value): Linear(in_features=768, out_features=768, bias=True)\n",
       "              (dropout): Dropout(p=0.1, inplace=False)\n",
       "            )\n",
       "            (output): RobertaSelfOutput(\n",
       "              (dense): Linear(in_features=768, out_features=768, bias=True)\n",
       "              (LayerNorm): LayerNorm((768,), eps=1e-05, elementwise_affine=True)\n",
       "              (dropout): Dropout(p=0.1, inplace=False)\n",
       "            )\n",
       "          )\n",
       "          (intermediate): RobertaIntermediate(\n",
       "            (dense): Linear(in_features=768, out_features=3072, bias=True)\n",
       "            (intermediate_act_fn): GELUActivation()\n",
       "          )\n",
       "          (output): RobertaOutput(\n",
       "            (dense): Linear(in_features=3072, out_features=768, bias=True)\n",
       "            (LayerNorm): LayerNorm((768,), eps=1e-05, elementwise_affine=True)\n",
       "            (dropout): Dropout(p=0.1, inplace=False)\n",
       "          )\n",
       "        )\n",
       "      )\n",
       "    )\n",
       "  )\n",
       "  (classifier): RobertaClassificationHead(\n",
       "    (dense): Linear(in_features=768, out_features=768, bias=True)\n",
       "    (dropout): Dropout(p=0.1, inplace=False)\n",
       "    (out_proj): Linear(in_features=768, out_features=4, bias=True)\n",
       "  )\n",
       ")"
      ]
     },
     "execution_count": 5,
     "metadata": {},
     "output_type": "execute_result"
    }
   ],
   "source": [
    "model = RobertaForSequenceClassification.from_pretrained(\n",
    "    base_model,\n",
    "    id2label=id2label)\n",
    "model"
   ]
  },
  {
   "cell_type": "markdown",
   "id": "b83bc065",
   "metadata": {
    "papermill": {
     "duration": 0.020028,
     "end_time": "2025-04-17T16:04:42.190963",
     "exception": false,
     "start_time": "2025-04-17T16:04:42.170935",
     "status": "completed"
    },
    "tags": []
   },
   "source": [
    "# Setup & Configuration"
   ]
  },
  {
   "cell_type": "code",
   "execution_count": 6,
   "id": "1cc4f99d",
   "metadata": {
    "execution": {
     "iopub.execute_input": "2025-04-17T16:04:42.227455Z",
     "iopub.status.busy": "2025-04-17T16:04:42.226843Z",
     "iopub.status.idle": "2025-04-17T16:04:42.233487Z",
     "shell.execute_reply": "2025-04-17T16:04:42.232772Z"
    },
    "papermill": {
     "duration": 0.023287,
     "end_time": "2025-04-17T16:04:42.234517",
     "exception": false,
     "start_time": "2025-04-17T16:04:42.211230",
     "status": "completed"
    },
    "tags": []
   },
   "outputs": [
    {
     "name": "stdout",
     "output_type": "stream",
     "text": [
      "\n",
      "================================================================================\n",
      "🔧 INITIALIZING ENVIRONMENT SETUP\n",
      "================================================================================\n",
      "💻 Running in local or non-Kaggle environment\n"
     ]
    }
   ],
   "source": [
    "print(\"\\n\" + \"=\"*80)\n",
    "print(\"🔧 INITIALIZING ENVIRONMENT SETUP\")\n",
    "print(\"=\"*80)\n",
    "\n",
    "# Constants\n",
    "MAX_TRAINABLE_PARAMS = 1_000_000 \n",
    "KAGGLE_ENV = False  \n",
    "\n",
    "# Check environment\n",
    "try:\n",
    "    import kagglehub\n",
    "    KAGGLE_ENV = True\n",
    "    print(\"📍 Detected Kaggle environment\")\n",
    "    \n",
    "    print(\"🔐 Authenticating with Kaggle...\")\n",
    "    kagglehub.login()\n",
    "    \n",
    "    print(\"📦 Downloading competition dataset...\")\n",
    "    !kaggle competitions download -c deep-learning-spring-2025-project-2\n",
    "    !unzip -q deep-learning-spring-2025-project-2.zip\n",
    "    \n",
    "    print(\"✅ Dataset successfully downloaded and extracted\")\n",
    "except ImportError:\n",
    "    print(\"💻 Running in local or non-Kaggle environment\")"
   ]
  },
  {
   "cell_type": "markdown",
   "id": "daafee0e",
   "metadata": {
    "papermill": {
     "duration": 0.019172,
     "end_time": "2025-04-17T16:04:42.277617",
     "exception": false,
     "start_time": "2025-04-17T16:04:42.258445",
     "status": "completed"
    },
    "tags": []
   },
   "source": [
    "# Device Configuration"
   ]
  },
  {
   "cell_type": "code",
   "execution_count": 7,
   "id": "a9f7a5e8",
   "metadata": {
    "execution": {
     "iopub.execute_input": "2025-04-17T16:04:42.314884Z",
     "iopub.status.busy": "2025-04-17T16:04:42.314280Z",
     "iopub.status.idle": "2025-04-17T16:04:42.923488Z",
     "shell.execute_reply": "2025-04-17T16:04:42.922736Z"
    },
    "papermill": {
     "duration": 0.626444,
     "end_time": "2025-04-17T16:04:42.924579",
     "exception": false,
     "start_time": "2025-04-17T16:04:42.298135",
     "status": "completed"
    },
    "tags": []
   },
   "outputs": [
    {
     "name": "stdout",
     "output_type": "stream",
     "text": [
      "🧠 Model will train using: CUDA\n"
     ]
    },
    {
     "name": "stdout",
     "output_type": "stream",
     "text": [
      "🚀 Model successfully loaded onto device\n"
     ]
    }
   ],
   "source": [
    "if \"XRT_TPU_CONFIG\" in os.environ:\n",
    "    import torch_xla.core.xla_model as xm\n",
    "    device = xm.xla_device()  # TPU\n",
    "elif torch.backends.mps.is_available():\n",
    "    device = torch.device(\"mps\")  # Apple Silicon GPU\n",
    "elif torch.cuda.is_available():\n",
    "    device = torch.device(\"cuda\")  # NVIDIA GPU\n",
    "else:\n",
    "    device = torch.device(\"cpu\")  # CPU\n",
    "\n",
    "print(f\"🧠 Model will train using: {device.type.upper()}\")\n",
    "\n",
    "# Move model to the selected device\n",
    "model.to(device)\n",
    "print(\"🚀 Model successfully loaded onto device\")"
   ]
  },
  {
   "cell_type": "markdown",
   "id": "8d20e3f5",
   "metadata": {
    "papermill": {
     "duration": 0.016938,
     "end_time": "2025-04-17T16:04:42.958842",
     "exception": false,
     "start_time": "2025-04-17T16:04:42.941904",
     "status": "completed"
    },
    "tags": []
   },
   "source": [
    "# Parameter Check"
   ]
  },
  {
   "cell_type": "code",
   "execution_count": 8,
   "id": "bbd0e18d",
   "metadata": {
    "execution": {
     "iopub.execute_input": "2025-04-17T16:04:43.007453Z",
     "iopub.status.busy": "2025-04-17T16:04:43.007173Z",
     "iopub.status.idle": "2025-04-17T16:04:43.013068Z",
     "shell.execute_reply": "2025-04-17T16:04:43.012470Z"
    },
    "papermill": {
     "duration": 0.025102,
     "end_time": "2025-04-17T16:04:43.014037",
     "exception": false,
     "start_time": "2025-04-17T16:04:42.988935",
     "status": "completed"
    },
    "tags": []
   },
   "outputs": [
    {
     "name": "stdout",
     "output_type": "stream",
     "text": [
      "\n",
      "📊 MODEL PARAMETER SUMMARY\n",
      "----------------------------------------\n",
      "🔢 Total Parameters     : 124,648,708\n",
      "🛠️  All Trainable       : Yes\n",
      "----------------------------------------\n"
     ]
    }
   ],
   "source": [
    "total_params = sum(p.numel() for p in model.parameters())\n",
    "all_trainable = all(p.requires_grad for p in model.parameters())\n",
    "\n",
    "print(\"\\n📊 MODEL PARAMETER SUMMARY\")\n",
    "print(\"-\" * 40)\n",
    "print(f\"🔢 Total Parameters     : {total_params:,}\")\n",
    "print(f\"🛠️  All Trainable       : {'Yes' if all_trainable else 'No'}\")\n",
    "print(\"-\" * 40)"
   ]
  },
  {
   "cell_type": "markdown",
   "id": "3a57dca0",
   "metadata": {
    "papermill": {
     "duration": 0.025704,
     "end_time": "2025-04-17T16:04:43.075103",
     "exception": false,
     "start_time": "2025-04-17T16:04:43.049399",
     "status": "completed"
    },
    "tags": []
   },
   "source": [
    "# Data Filtering"
   ]
  },
  {
   "cell_type": "code",
   "execution_count": 9,
   "id": "ce8d185b",
   "metadata": {
    "execution": {
     "iopub.execute_input": "2025-04-17T16:04:43.111769Z",
     "iopub.status.busy": "2025-04-17T16:04:43.111172Z",
     "iopub.status.idle": "2025-04-17T16:04:43.123278Z",
     "shell.execute_reply": "2025-04-17T16:04:43.122594Z"
    },
    "papermill": {
     "duration": 0.029151,
     "end_time": "2025-04-17T16:04:43.124313",
     "exception": false,
     "start_time": "2025-04-17T16:04:43.095162",
     "status": "completed"
    },
    "tags": []
   },
   "outputs": [
    {
     "name": "stdout",
     "output_type": "stream",
     "text": [
      "\n",
      "================================================================================\n",
      "📂 APPLYING DATA FILTERING STRATEGY\n",
      "================================================================================\n",
      "\n",
      "📊 DATASET SIZE REPORT\n",
      "----------------------------------------\n",
      "📦 Original training size : 120000 samples\n",
      "✅ After filtering        : 119993 samples\n",
      "❌ Removed                : 7 samples\n",
      "----------------------------------------\n"
     ]
    }
   ],
   "source": [
    "print(\"\\n\" + \"=\"*80)\n",
    "print(\"📂 APPLYING DATA FILTERING STRATEGY\")\n",
    "print(\"=\"*80)\n",
    "\n",
    "# Function to filter out very short and very long examples\n",
    "def filter_dataset(examples):\n",
    "    \"\"\"Remove entries with too few or too many words.\"\"\"\n",
    "    word_counts = [len(text.split()) for text in examples[\"text\"]]\n",
    "    \n",
    "    # Keep examples between 10 and 200 words\n",
    "    valid_indices = [i for i, count in enumerate(word_counts) if 10 <= count <= 200]\n",
    "    \n",
    "    removed = len(word_counts) - len(valid_indices)\n",
    "    percentage = (removed / len(word_counts)) * 100\n",
    "    \n",
    "    print(f\"🧹 Filtered out {removed} examples ({percentage:.2f}%) in this batch\")\n",
    "    \n",
    "    return {key: [examples[key][i] for i in valid_indices] for key in examples}\n",
    "\n",
    "# Filter the training set\n",
    "filtered_train = dataset.map(\n",
    "    filter_dataset,\n",
    "    batched=True,\n",
    "    desc=\"⏳ Filtering training data...\"\n",
    ")\n",
    "\n",
    "print(\"\\n📊 DATASET SIZE REPORT\")\n",
    "print(\"-\" * 40)\n",
    "print(f\"📦 Original training size : {len(dataset)} samples\")\n",
    "print(f\"✅ After filtering        : {len(filtered_train)} samples\")\n",
    "print(f\"❌ Removed                : {len(dataset) - len(filtered_train)} samples\")\n",
    "print(\"-\" * 40)"
   ]
  },
  {
   "cell_type": "markdown",
   "id": "db827255",
   "metadata": {
    "papermill": {
     "duration": 0.020165,
     "end_time": "2025-04-17T16:04:43.160776",
     "exception": false,
     "start_time": "2025-04-17T16:04:43.140611",
     "status": "completed"
    },
    "tags": []
   },
   "source": [
    "# Tokenize Filtered Dataset"
   ]
  },
  {
   "cell_type": "code",
   "execution_count": 10,
   "id": "3b2aa812",
   "metadata": {
    "execution": {
     "iopub.execute_input": "2025-04-17T16:04:43.201910Z",
     "iopub.status.busy": "2025-04-17T16:04:43.201287Z",
     "iopub.status.idle": "2025-04-17T16:04:44.028855Z",
     "shell.execute_reply": "2025-04-17T16:04:44.028122Z"
    },
    "papermill": {
     "duration": 0.851341,
     "end_time": "2025-04-17T16:04:44.030204",
     "exception": false,
     "start_time": "2025-04-17T16:04:43.178863",
     "status": "completed"
    },
    "tags": []
   },
   "outputs": [],
   "source": [
    "filteredTokenized = filtered_train.map(\n",
    "    preprocess, \n",
    "    batched=True,  \n",
    "    remove_columns=[\"text\"]\n",
    ")\n",
    "filteredTokenized = filteredTokenized.rename_column(\"label\", \"labels\")"
   ]
  },
  {
   "cell_type": "markdown",
   "id": "f265839d-a088-4693-8474-862641de11ed",
   "metadata": {
    "id": "f265839d-a088-4693-8474-862641de11ed",
    "papermill": {
     "duration": 0.017037,
     "end_time": "2025-04-17T16:04:44.073981",
     "exception": false,
     "start_time": "2025-04-17T16:04:44.056944",
     "status": "completed"
    },
    "tags": []
   },
   "source": [
    "## Anything from here on can be modified"
   ]
  },
  {
   "cell_type": "code",
   "execution_count": 11,
   "id": "e7413430-be57-482b-856e-36bd4ba799df",
   "metadata": {
    "execution": {
     "iopub.execute_input": "2025-04-17T16:04:44.118979Z",
     "iopub.status.busy": "2025-04-17T16:04:44.118659Z",
     "iopub.status.idle": "2025-04-17T16:04:44.128732Z",
     "shell.execute_reply": "2025-04-17T16:04:44.128044Z"
    },
    "id": "e7413430-be57-482b-856e-36bd4ba799df",
    "papermill": {
     "duration": 0.032605,
     "end_time": "2025-04-17T16:04:44.129806",
     "exception": false,
     "start_time": "2025-04-17T16:04:44.097201",
     "status": "completed"
    },
    "tags": []
   },
   "outputs": [],
   "source": [
    "# Split the original training set\n",
    "splitDatasets = filteredTokenized.train_test_split(test_size=640, seed=42)\n",
    "trainDataset = splitDatasets['train']\n",
    "evalDataset = splitDatasets['test']"
   ]
  },
  {
   "cell_type": "markdown",
   "id": "94ae3741",
   "metadata": {
    "papermill": {
     "duration": 0.01494,
     "end_time": "2025-04-17T16:04:44.161595",
     "exception": false,
     "start_time": "2025-04-17T16:04:44.146655",
     "status": "completed"
    },
    "tags": []
   },
   "source": [
    "# Dataset Visualization"
   ]
  },
  {
   "cell_type": "code",
   "execution_count": 12,
   "id": "2e8d120d",
   "metadata": {
    "execution": {
     "iopub.execute_input": "2025-04-17T16:04:44.215520Z",
     "iopub.status.busy": "2025-04-17T16:04:44.214914Z",
     "iopub.status.idle": "2025-04-17T16:04:56.475336Z",
     "shell.execute_reply": "2025-04-17T16:04:56.474556Z"
    },
    "papermill": {
     "duration": 12.294304,
     "end_time": "2025-04-17T16:04:56.476581",
     "exception": false,
     "start_time": "2025-04-17T16:04:44.182277",
     "status": "completed"
    },
    "tags": []
   },
   "outputs": [
    {
     "name": "stdout",
     "output_type": "stream",
     "text": [
      "\n",
      "================================================================================\n",
      "DATASET VISUALIZATION & EXPLORATION\n",
      "================================================================================\n"
     ]
    },
    {
     "data": {
      "image/png": "[encoded data removed]",
      "text/plain": [
       "<Figure size 1000x600 with 1 Axes>"
      ]
     },
     "metadata": {},
     "output_type": "display_data"
    },
    {
     "data": {
      "image/png": "[encoded data removed]",
      "text/plain": [
       "<Figure size 1000x600 with 1 Axes>"
      ]
     },
     "metadata": {},
     "output_type": "display_data"
    },
    {
     "name": "stdout",
     "output_type": "stream",
     "text": [
      "\n",
      "SAMPLE TEXT EXAMPLES PER CLASS\n",
      "--------------------------------------------------------------------------------\n"
     ]
    },
    {
     "name": "stdout",
     "output_type": "stream",
     "text": [
      "\n",
      "Class 0 → World\n",
      "  - Example 1: \"Mbango breaks Greek hearts Cameroon's Francoise Mbango Etone pips Greece's Hrysopiyi Devetzi to triple jump gold....\"\n",
      "  - Example 2: \"Dalai Lama Visits Russia Despite Chinese Objections The Russian government has allowed the Tibetan spiritual leader, the Dalai Lama, to visit the coun...\"\n"
     ]
    },
    {
     "name": "stdout",
     "output_type": "stream",
     "text": [
      "\n",
      "Class 1 → Sports\n",
      "  - Example 1: \"Davis Says Trading Rice Was Difficult (AP) AP - Al Davis never considered releasing Jerry Rice  #151; that's just not the way the Oakland Raiders' own...\"\n",
      "  - Example 2: \"Ways to pass time between TD passes What's it been, something like 222 days between meaningful NFL games? What a stretch of misery, so totally demoral...\"\n"
     ]
    },
    {
     "name": "stdout",
     "output_type": "stream",
     "text": [
      "\n",
      "Class 2 → Business\n",
      "  - Example 1: \"Air Canada Stock Plunges on Review  MONTREAL (Reuters) - Shares of Air Canada  &lt;A HREF=\"http://www.investor.reuters.com/FullQuote.aspx?ticker=AC.TO...\"\n",
      "  - Example 2: \"EU: Alitalia plan good for future A rescue plan aimed at saving Italian airline Alitalia is a good sign for the future of the loss-making flag carrier...\"\n"
     ]
    },
    {
     "name": "stdout",
     "output_type": "stream",
     "text": [
      "\n",
      "Class 3 → Sci/Tech\n",
      "  - Example 1: \"Nokia #39;s Ollila Says Global Mobile-Phone Users Reach 1.7 Billion Nokia Oyj Chief Executive Officer Jorma Ollila said there are 1.7 billion mobile-p...\"\n",
      "  - Example 2: \"Microsoft releases seven  #39;critical #39; security patches Microsoft has issued ten new software security patches, seven of which are deemed so  #39...\"\n",
      "\n",
      "Dataset exploration complete.\n"
     ]
    }
   ],
   "source": [
    "print(\"\\n\" + \"=\"*80)\n",
    "print(\"DATASET VISUALIZATION & EXPLORATION\")\n",
    "print(\"=\"*80)\n",
    "\n",
    "import matplotlib.pyplot as plt\n",
    "import seaborn as sns\n",
    "import numpy as np\n",
    "import random\n",
    "\n",
    "# 1. Plot class distribution\n",
    "plt.figure(figsize=(10, 6))\n",
    "class_counts = dataset.to_pandas()['label'].value_counts().sort_index()\n",
    "\n",
    "sns.barplot(\n",
    "    x=[class_names[i] for i in class_counts.index],\n",
    "    y=class_counts.values,\n",
    "    edgecolor=\"black\"\n",
    ")\n",
    "\n",
    "plt.title(\"Distribution of Classes\", fontsize=16, weight='bold')\n",
    "plt.xlabel(\"Class Name\", fontsize=12)\n",
    "plt.ylabel(\"Number of Samples\", fontsize=12)\n",
    "plt.xticks(rotation=45)\n",
    "plt.grid(axis='y', linestyle='--', alpha=0.6)\n",
    "plt.tight_layout()\n",
    "plt.savefig(\"class_distribution.png\")\n",
    "plt.show()\n",
    "\n",
    "# 2. Plot text length distribution\n",
    "text_lengths = [len(text.split()) for text in dataset[\"text\"]]\n",
    "\n",
    "plt.figure(figsize=(10, 6))\n",
    "sns.histplot(text_lengths, bins=50, color=\"skyblue\", edgecolor=\"black\")\n",
    "\n",
    "median = np.median(text_lengths)\n",
    "percentile_95 = np.percentile(text_lengths, 95)\n",
    "\n",
    "plt.axvline(median, color='red', linestyle='--', linewidth=2, label=f\"Median = {int(median)}\")\n",
    "plt.axvline(percentile_95, color='green', linestyle='--', linewidth=2, label=f\"95th %ile = {int(percentile_95)}\")\n",
    "\n",
    "plt.title(\"Distribution of Text Lengths (in Words)\", fontsize=16, weight='bold')\n",
    "plt.xlabel(\"Number of Words\", fontsize=12)\n",
    "plt.ylabel(\"Frequency\", fontsize=12)\n",
    "plt.legend()\n",
    "plt.grid(axis='y', linestyle='--', alpha=0.6)\n",
    "plt.tight_layout()\n",
    "plt.savefig(\"text_length_distribution.png\")\n",
    "plt.show()\n",
    "\n",
    "# 3. Display sample examples from each class\n",
    "print(\"\\nSAMPLE TEXT EXAMPLES PER CLASS\")\n",
    "print(\"-\" * 80)\n",
    "samples_per_class = {}\n",
    "\n",
    "for i, class_name in enumerate(class_names):\n",
    "    class_examples = [ex for ex in dataset if ex['label'] == i]\n",
    "    if len(class_examples) == 0:\n",
    "        continue\n",
    "\n",
    "    samples = random.sample(class_examples, min(2, len(class_examples)))\n",
    "    samples_per_class[class_name] = samples\n",
    "    \n",
    "    print(f\"\\nClass {i} → {class_name}\")\n",
    "    for j, sample in enumerate(samples):\n",
    "        preview = sample['text'][:150].replace(\"\\n\", \" \").strip()\n",
    "        print(f\"  - Example {j+1}: \\\"{preview}...\\\"\")\n",
    "\n",
    "print(\"\\nDataset exploration complete.\")"
   ]
  },
  {
   "cell_type": "markdown",
   "id": "652452e3",
   "metadata": {
    "id": "652452e3",
    "papermill": {
     "duration": 0.020814,
     "end_time": "2025-04-17T16:04:56.527247",
     "exception": false,
     "start_time": "2025-04-17T16:04:56.506433",
     "status": "completed"
    },
    "tags": []
   },
   "source": [
    "## Setup LoRA Config\n",
    "Setup PEFT config and get peft model for finetuning"
   ]
  },
  {
   "cell_type": "code",
   "execution_count": 13,
   "id": "bd0ca0ea-86b8-47f7-8cbf-83da25685876",
   "metadata": {
    "execution": {
     "iopub.execute_input": "2025-04-17T16:04:56.571048Z",
     "iopub.status.busy": "2025-04-17T16:04:56.570443Z",
     "iopub.status.idle": "2025-04-17T16:04:56.737673Z",
     "shell.execute_reply": "2025-04-17T16:04:56.736882Z"
    },
    "id": "bd0ca0ea-86b8-47f7-8cbf-83da25685876",
    "papermill": {
     "duration": 0.190316,
     "end_time": "2025-04-17T16:04:56.738794",
     "exception": false,
     "start_time": "2025-04-17T16:04:56.548478",
     "status": "completed"
    },
    "tags": []
   },
   "outputs": [
    {
     "name": "stdout",
     "output_type": "stream",
     "text": [
      "\n",
      "================================================================================\n",
      "SETTING UP LoRA CONFIGURATIONS\n",
      "================================================================================\n",
      "\n",
      "Evaluating LoRA config: minimal\n",
      "  -> Rank: 2\n",
      "  -> Alpha: 16\n",
      "  -> Target modules: ['query']\n",
      "  -> Trainable params: 630,532\n",
      "  -> Total params: 125,279,240\n",
      "  -> % Trainable: 0.50%\n",
      "  -> Within limit (1,000,000): Yes\n",
      "\n",
      "Evaluating LoRA config: balanced\n",
      "  -> Rank: 3\n",
      "  -> Alpha: 32\n",
      "  -> Target modules: ['query', 'value']\n",
      "  -> Trainable params: 704,260\n",
      "  -> Total params: 125,352,968\n",
      "  -> % Trainable: 0.56%\n",
      "  -> Within limit (1,000,000): Yes\n",
      "\n",
      "Evaluating LoRA config: comprehensive\n",
      "  -> Rank: 4\n",
      "  -> Alpha: 96\n",
      "  -> Target modules: ['query', 'key', 'value']\n"
     ]
    },
    {
     "name": "stdout",
     "output_type": "stream",
     "text": [
      "  -> Trainable params: 814,852\n",
      "  -> Total params: 125,463,560\n",
      "  -> % Trainable: 0.65%\n",
      "  -> Within limit (1,000,000): Yes\n",
      "\n",
      "Evaluating LoRA config: focused_strong\n",
      "  -> Rank: 2\n",
      "  -> Alpha: 128\n",
      "  -> Target modules: ['query', 'key', 'value']\n",
      "  -> Trainable params: 704,260\n",
      "  -> Total params: 125,352,968\n",
      "  -> % Trainable: 0.56%\n",
      "  -> Within limit (1,000,000): Yes\n"
     ]
    },
    {
     "name": "stderr",
     "output_type": "stream",
     "text": [
      "/ext3/miniconda3/lib/python3.12/site-packages/peft/mapping_func.py:73: UserWarning: You are trying to modify a model with PEFT for a second time. If you want to reload the model with a different config, make sure to call `.unload()` before.\n",
      "  warnings.warn(\n",
      "/ext3/miniconda3/lib/python3.12/site-packages/peft/tuners/tuners_utils.py:167: UserWarning: Already found a `peft_config` attribute in the model. This will lead to having multiple adapters in the model. Make sure to know what you are doing!\n",
      "  warnings.warn(\n"
     ]
    }
   ],
   "source": [
    "print(\"\\n\" + \"=\"*80)\n",
    "print(\"SETTING UP LoRA CONFIGURATIONS\")\n",
    "print(\"=\"*80)\n",
    "\n",
    "# Define LoRA configuration options\n",
    "lora_options = [\n",
    "    {\n",
    "        \"label\": \"minimal\",\n",
    "        \"rank\": 2,\n",
    "        \"alpha\": 16,\n",
    "        \"dropout\": 0.05,\n",
    "        \"modules\": [\"query\"],\n",
    "    },\n",
    "    {\n",
    "        \"label\": \"balanced\", \n",
    "        \"rank\": 3,\n",
    "        \"alpha\": 32,\n",
    "        \"dropout\": 0.1,\n",
    "        \"modules\": [\"query\", \"value\"],\n",
    "    },\n",
    "    {\n",
    "        \"label\": \"comprehensive\",\n",
    "        \"rank\": 4, \n",
    "        \"alpha\": 96,  \n",
    "        \"dropout\": 0.1,\n",
    "        \"modules\": [\"query\", \"key\", \"value\"],\n",
    "    },\n",
    "\n",
    "    {\n",
    "        \"label\": \"focused_strong\",\n",
    "        \"rank\": 2,  \n",
    "        \"alpha\": 128,  \n",
    "        \"dropout\": 0.15,  \n",
    "        \"modules\": [\"query\", \"key\", \"value\"],\n",
    "    }\n",
    "]\n",
    "\n",
    "# Function to evaluate each LoRA config\n",
    "def evaluate_lora_option(option):\n",
    "    print(f\"\\nEvaluating LoRA config: {option['label']}\")\n",
    "    print(f\"  -> Rank: {option['rank']}\")\n",
    "    print(f\"  -> Alpha: {option['alpha']}\")\n",
    "    print(f\"  -> Target modules: {option['modules']}\")\n",
    "\n",
    "    config = LoraConfig(\n",
    "        r=option[\"rank\"],\n",
    "        lora_alpha=option[\"alpha\"],\n",
    "        lora_dropout=option[\"dropout\"],\n",
    "        bias=\"none\",\n",
    "        target_modules=option[\"modules\"],\n",
    "        task_type=TaskType.SEQ_CLS,\n",
    "    )\n",
    "\n",
    "    adapted_model = get_peft_model(model, config)\n",
    "\n",
    "    trainable = sum(p.numel() for p in adapted_model.parameters() if p.requires_grad)\n",
    "    total = sum(p.numel() for p in adapted_model.parameters())\n",
    "    percent_trainable = 100 * trainable / total\n",
    "\n",
    "    print(f\"  -> Trainable params: {trainable:,}\")\n",
    "    print(f\"  -> Total params: {total:,}\")\n",
    "    print(f\"  -> % Trainable: {percent_trainable:.2f}%\")\n",
    "    print(f\"  -> Within limit ({MAX_TRAINABLE_PARAMS:,}): {'Yes' if trainable < MAX_TRAINABLE_PARAMS else 'No'}\")\n",
    "\n",
    "    return {\n",
    "        \"option\": option,\n",
    "        \"trainable_params\": trainable,\n",
    "        \"within_limit\": trainable < MAX_TRAINABLE_PARAMS,\n",
    "        \"lora_config\": config\n",
    "    }\n",
    "\n",
    "# Run evaluation on each config\n",
    "evaluated_options = [evaluate_lora_option(opt) for opt in lora_options]\n",
    "\n",
    "# Keep only the configurations that fit within the parameter budget\n",
    "eligible_configs = [result for result in evaluated_options if result[\"within_limit\"]]\n",
    "\n",
    "if not eligible_configs:\n",
    "    raise ValueError(\"No configuration meets the trainable parameter requirement. Please adjust settings.\")\n",
    "\n",
    "final_choice = max(eligible_configs, key=lambda x: x[\"trainable_params\"])"
   ]
  },
  {
   "cell_type": "code",
   "execution_count": 14,
   "id": "8232f9cb",
   "metadata": {
    "execution": {
     "iopub.execute_input": "2025-04-17T16:04:56.783050Z",
     "iopub.status.busy": "2025-04-17T16:04:56.782784Z",
     "iopub.status.idle": "2025-04-17T16:04:56.826368Z",
     "shell.execute_reply": "2025-04-17T16:04:56.825797Z"
    },
    "papermill": {
     "duration": 0.066919,
     "end_time": "2025-04-17T16:04:56.827446",
     "exception": false,
     "start_time": "2025-04-17T16:04:56.760527",
     "status": "completed"
    },
    "tags": []
   },
   "outputs": [
    {
     "name": "stdout",
     "output_type": "stream",
     "text": [
      "\n",
      "--------------------------------------------------\n",
      "Selected LoRA configuration: comprehensive\n",
      "Trainable parameters: 814,852\n",
      "--------------------------------------------------\n",
      "\n",
      "Final model parameter check:\n",
      "trainable params: 814,852 || all params: 125,463,560 || trainable%: 0.6495\n",
      "Total parameters in final PEFT model     : 125,463,560\n",
      "Trainable parameters in final PEFT model : 814,852\n",
      "Model is within the parameter limit (1,000,000). Proceeding to training.\n"
     ]
    }
   ],
   "source": [
    "print(\"\\n\" + \"-\" * 50)\n",
    "print(f\"Selected LoRA configuration: {final_choice['option']['label']}\")\n",
    "print(f\"Trainable parameters: {final_choice['trainable_params']:,}\")\n",
    "print(\"-\" * 50)\n",
    "\n",
    "# Build final LoRA model using the chosen configuration\n",
    "peft_config = final_choice[\"lora_config\"]\n",
    "peft_model = get_peft_model(model, peft_config)\n",
    "peft_model.to(device)\n",
    "\n",
    "# Confirm model parameters\n",
    "print(\"\\nFinal model parameter check:\")\n",
    "peft_model.print_trainable_parameters()\n",
    "\n",
    "# Final verification of total and trainable parameter count\n",
    "final_total_params = sum(p.numel() for p in peft_model.parameters())\n",
    "final_trainable_params = sum(p.numel() for p in peft_model.parameters() if p.requires_grad)\n",
    "\n",
    "print(f\"Total parameters in final PEFT model     : {final_total_params:,}\")\n",
    "print(f\"Trainable parameters in final PEFT model : {final_trainable_params:,}\")\n",
    "\n",
    "# Enforce parameter budget constraint\n",
    "assert final_trainable_params < MAX_TRAINABLE_PARAMS, (\n",
    "    f\"Model exceeds limit! ({final_trainable_params:,} > {MAX_TRAINABLE_PARAMS:,})\"\n",
    ")\n",
    "\n",
    "print(f\"Model is within the parameter limit ({MAX_TRAINABLE_PARAMS:,}). Proceeding to training.\")"
   ]
  },
  {
   "cell_type": "code",
   "execution_count": 15,
   "id": "0ee64c43-fe38-479a-b3c5-7d939a3db4c1",
   "metadata": {
    "execution": {
     "iopub.execute_input": "2025-04-17T16:04:56.870156Z",
     "iopub.status.busy": "2025-04-17T16:04:56.869555Z",
     "iopub.status.idle": "2025-04-17T16:04:56.875924Z",
     "shell.execute_reply": "2025-04-17T16:04:56.875399Z"
    },
    "id": "0ee64c43-fe38-479a-b3c5-7d939a3db4c1",
    "papermill": {
     "duration": 0.02829,
     "end_time": "2025-04-17T16:04:56.876928",
     "exception": false,
     "start_time": "2025-04-17T16:04:56.848638",
     "status": "completed"
    },
    "tags": []
   },
   "outputs": [
    {
     "name": "stdout",
     "output_type": "stream",
     "text": [
      "\n",
      "================================================================================\n",
      "CONFIGURING TRAINING\n",
      "================================================================================\n",
      "Selected optimizer: rmsprop\n"
     ]
    }
   ],
   "source": [
    "# To track evaluation accuracy during training\n",
    "from sklearn.metrics import accuracy_score, precision_score, recall_score, f1_score\n",
    "print(\"\\n\" + \"=\"*80)\n",
    "print(\"CONFIGURING TRAINING\")\n",
    "print(\"=\" * 80)\n",
    "\n",
    "SELECTED_OPTIMIZER = \"rmsprop\"  # Options: \"adamw\", \"sgd\", \"rmsprop\"\n",
    "print(f\"Selected optimizer: {SELECTED_OPTIMIZER}\")\n",
    "\n",
    "def compute_metrics(eval_pred):\n",
    "    \"\"\"Calculate multiple metrics for model evaluation.\"\"\"\n",
    "    logits, labels = eval_pred\n",
    "    predictions = np.argmax(logits, axis=-1)\n",
    "\n",
    "    # Calculate various metrics\n",
    "    accuracy = accuracy_score(labels, predictions)\n",
    "    precision = precision_score(labels, predictions, average='weighted')\n",
    "    recall = recall_score(labels, predictions, average='weighted')\n",
    "    f1 = f1_score(labels, predictions, average='weighted')\n",
    "\n",
    "    # Calculate per-class metrics\n",
    "    per_class_precision = precision_score(labels, predictions, average=None)\n",
    "    per_class_recall = recall_score(labels, predictions, average=None)\n",
    "    per_class_f1 = f1_score(labels, predictions, average=None)\n",
    "\n",
    "    # Prepare results\n",
    "    results = {\n",
    "        \"accuracy\": accuracy,\n",
    "        \"precision\": precision,\n",
    "        \"recall\": recall,\n",
    "        \"f1\": f1,\n",
    "    }\n",
    "\n",
    "    # Add per-class metrics\n",
    "    for i, class_name in id2label.items():\n",
    "        results[f\"precision_{class_name}\"] = per_class_precision[i]\n",
    "        results[f\"recall_{class_name}\"] = per_class_recall[i]\n",
    "        results[f\"f1_{class_name}\"] = per_class_f1[i]\n",
    "\n",
    "    return results"
   ]
  },
  {
   "cell_type": "code",
   "execution_count": 16,
   "id": "deac371e-1a70-4a4a-b2ad-89ce664ea4fb",
   "metadata": {
    "execution": {
     "iopub.execute_input": "2025-04-17T16:04:56.957238Z",
     "iopub.status.busy": "2025-04-17T16:04:56.956572Z",
     "iopub.status.idle": "2025-04-17T16:04:56.981003Z",
     "shell.execute_reply": "2025-04-17T16:04:56.980413Z"
    },
    "papermill": {
     "duration": 0.078044,
     "end_time": "2025-04-17T16:04:56.982248",
     "exception": false,
     "start_time": "2025-04-17T16:04:56.904204",
     "status": "completed"
    },
    "tags": []
   },
   "outputs": [],
   "source": [
    "training_args = TrainingArguments(\n",
    "    output_dir=\"./results\",\n",
    "    do_eval=True,\n",
    "    eval_strategy=\"epoch\",\n",
    "    save_strategy=\"epoch\",\n",
    "    save_total_limit=2,  \n",
    "    per_device_train_batch_size=48,  \n",
    "    per_device_eval_batch_size=64,  \n",
    "    num_train_epochs=30,  \n",
    "    weight_decay=0.005,  \n",
    "    load_best_model_at_end=True,\n",
    "    metric_for_best_model=\"accuracy\",\n",
    "    greater_is_better=True,\n",
    "    learning_rate=1e-4,  \n",
    "    lr_scheduler_type=\"cosine\",  \n",
    "    warmup_ratio=0.15,  \n",
    "    optim=\"adamw_torch\",\n",
    "    logging_dir=\"./logs\",\n",
    "    logging_steps=100,\n",
    "    gradient_checkpointing=False,\n",
    "    label_smoothing_factor=0.05,  \n",
    "    fp16=True,  \n",
    "    gradient_accumulation_steps=4,  \n",
    "    gradient_checkpointing_kwargs={'use_reentrant': True}\n",
    ")"
   ]
  },
  {
   "cell_type": "code",
   "execution_count": 17,
   "id": "768b4917-65de-4e55-ae7f-698e287535d4",
   "metadata": {
    "execution": {
     "iopub.execute_input": "2025-04-17T16:04:57.025859Z",
     "iopub.status.busy": "2025-04-17T16:04:57.025228Z",
     "iopub.status.idle": "2025-04-17T16:04:57.028818Z",
     "shell.execute_reply": "2025-04-17T16:04:57.028276Z"
    },
    "id": "768b4917-65de-4e55-ae7f-698e287535d4",
    "papermill": {
     "duration": 0.025955,
     "end_time": "2025-04-17T16:04:57.029814",
     "exception": false,
     "start_time": "2025-04-17T16:04:57.003859",
     "status": "completed"
    },
    "tags": []
   },
   "outputs": [],
   "source": [
    "# # Setup Training args\n",
    "# training_args = TrainingArguments(\n",
    "#     output_dir=\"./results\",\n",
    "#     evaluation_strategy=\"epoch\",\n",
    "#     save_strategy=\"epoch\",\n",
    "#     per_device_train_batch_size=64,\n",
    "#     per_device_eval_batch_size=128,\n",
    "#     num_train_epochs=10,\n",
    "#     weight_decay=0.005,\n",
    "#     load_best_model_at_end=True,\n",
    "#     metric_for_best_model=\"accuracy\",\n",
    "#     report_to=\"none\",\n",
    "#     # Learning rate for RMSProp (slightly higher than AdamW but lower than SGD)\n",
    "#     learning_rate=8e-4,\n",
    "#     # Learning rate scheduler\n",
    "#     lr_scheduler_type=\"linear\",\n",
    "#     warmup_ratio=0.15,\n",
    "#     # Optimizer selection\n",
    "#     optim=SELECTED_OPTIMIZER,\n",
    "#     # RMSProp doesn't use adam_beta params\n",
    "#     # Logging\n",
    "#     logging_dir=\"./logs\",\n",
    "#     logging_steps=100,\n",
    "#     gradient_checkpointing=False,\n",
    "#     label_smoothing_factor=0.1,\n",
    "#    gradient_checkpointing_kwargs={'use_reentrant':True}\n",
    "# )"
   ]
  },
  {
   "cell_type": "markdown",
   "id": "c79f1c69",
   "metadata": {
    "papermill": {
     "duration": 0.023208,
     "end_time": "2025-04-17T16:04:57.074207",
     "exception": false,
     "start_time": "2025-04-17T16:04:57.050999",
     "status": "completed"
    },
    "tags": []
   },
   "source": [
    "# Custom Trainer class for tracking training history"
   ]
  },
  {
   "cell_type": "code",
   "execution_count": 18,
   "id": "d93d44bc",
   "metadata": {
    "execution": {
     "iopub.execute_input": "2025-04-17T16:04:57.116336Z",
     "iopub.status.busy": "2025-04-17T16:04:57.115662Z",
     "iopub.status.idle": "2025-04-17T16:04:57.126718Z",
     "shell.execute_reply": "2025-04-17T16:04:57.126180Z"
    },
    "papermill": {
     "duration": 0.032907,
     "end_time": "2025-04-17T16:04:57.127745",
     "exception": false,
     "start_time": "2025-04-17T16:04:57.094838",
     "status": "completed"
    },
    "tags": []
   },
   "outputs": [],
   "source": [
    "class CustomTrainer(Trainer):\n",
    "\n",
    "    def __init__(self, *args, **kwargs):\n",
    "        super().__init__(*args, **kwargs)\n",
    "        # Use alternative names for tracking\n",
    "        self._train_log = defaultdict(list)\n",
    "        self._eval_log = defaultdict(list)\n",
    "        self._steps = []\n",
    "        self._epochs = []\n",
    "\n",
    "    def log(self, logs, start_time=None):\n",
    "        # Call parent log\n",
    "        super().log(logs, start_time)\n",
    "        # Store metrics in new variable names\n",
    "        for metric, val in logs.items():\n",
    "            if metric.startswith(\"train_\"):\n",
    "                self._train_log[metric].append(float(val))\n",
    "            elif metric.startswith(\"eval_\"):\n",
    "                self._eval_log[metric].append(float(val))\n",
    "        # Track step and epoch\n",
    "        if \"epoch\" in logs:\n",
    "            self._epochs.append(float(logs[\"epoch\"]))\n",
    "        if \"step\" in logs:\n",
    "            self._steps.append(int(logs[\"step\"]))\n",
    "\n",
    "    def plot_metrics(self):\n",
    "        \"\"\"Visualize training and evaluation statistics.\"\"\"\n",
    "        if not self._steps:\n",
    "            print(\"No training history to visualize.\")\n",
    "            return\n",
    "        plt.figure(figsize=(12, 8))\n",
    "        # Training loss\n",
    "        if \"train_loss\" in self._train_log:\n",
    "            plt.subplot(2, 2, 1)\n",
    "            plt.plot(self._steps, self._train_log[\"train_loss\"], label=\"Train\")\n",
    "            plt.title(\"Training Loss\")\n",
    "            plt.xlabel(\"Step\")\n",
    "            plt.ylabel(\"Loss\")\n",
    "            plt.legend()\n",
    "        # Accuracy\n",
    "        plt.subplot(2, 2, 2)\n",
    "        if \"train_accuracy\" in self._train_log:\n",
    "            plt.plot(self._steps, self._train_log[\"train_accuracy\"], label=\"Train\")\n",
    "        if self._eval_log.get(\"eval_accuracy\", []):\n",
    "            interval = max(1, len(self._steps) // len(self._eval_log[\"eval_accuracy\"]))\n",
    "            eval_steps = self._steps[::interval][:len(self._eval_log[\"eval_accuracy\"])]\n",
    "        else:\n",
    "            eval_steps = []\n",
    "        plt.plot(eval_steps, self._eval_log[\"eval_accuracy\"], label=\"Validation\", marker=\"o\")\n",
    "        plt.title(\"Model Accuracy\")\n",
    "        plt.xlabel(\"Step\")\n",
    "        plt.ylabel(\"Accuracy\")\n",
    "        plt.legend()\n",
    "        # Learning rate\n",
    "        if \"learning_rate\" in self._train_log:\n",
    "            plt.subplot(2, 2, 3)\n",
    "            plt.plot(self._steps, self._train_log[\"learning_rate\"])\n",
    "            plt.title(\"Learning Rate\")\n",
    "            plt.xlabel(\"Step\")\n",
    "            plt.ylabel(\"LR\")\n",
    "        # Other eval metrics\n",
    "        plt.subplot(2, 2, 4)\n",
    "        for k, v in self._eval_log.items():\n",
    "            if k not in (\"eval_accuracy\", \"eval_loss\") and len(v) > 0:\n",
    "                plt.plot(eval_steps, v, label=k.replace(\"eval_\", \"\"))\n",
    "        if len(plt.gca().get_lines()) > 0:\n",
    "            plt.title(\"Other Metrics\")\n",
    "            plt.xlabel(\"Step\")\n",
    "            plt.ylabel(\"Score\")\n",
    "            plt.legend()\n",
    "        else:\n",
    "            plt.title(\"No Additional Metrics\")\n",
    "        plt.tight_layout()\n",
    "        plt.savefig('training_metrics.png')\n",
    "        plt.show()\n",
    "        # Print summary\n",
    "        print(\"\\nFinal Training Metrics:\")\n",
    "        for k, v in self._train_log.items():\n",
    "            if len(v) > 0:\n",
    "                print(f\"  {k}: {v[-1]:.4f}\")\n",
    "        print(\"\\nFinal Evaluation Metrics:\")\n",
    "        for k, v in self._eval_log.items():\n",
    "            if len(v) > 0:\n",
    "                print(f\"  {k}: {v[-1]:.4f}\")\n"
   ]
  },
  {
   "cell_type": "markdown",
   "id": "3f45f02d",
   "metadata": {
    "papermill": {
     "duration": 0.02061,
     "end_time": "2025-04-17T16:04:57.169411",
     "exception": false,
     "start_time": "2025-04-17T16:04:57.148801",
     "status": "completed"
    },
    "tags": []
   },
   "source": [
    "# get_trainer function uses CustomTrainer"
   ]
  },
  {
   "cell_type": "code",
   "execution_count": 19,
   "id": "9f1065ee",
   "metadata": {
    "execution": {
     "iopub.execute_input": "2025-04-17T16:04:57.212015Z",
     "iopub.status.busy": "2025-04-17T16:04:57.211380Z",
     "iopub.status.idle": "2025-04-17T16:04:57.285041Z",
     "shell.execute_reply": "2025-04-17T16:04:57.284518Z"
    },
    "papermill": {
     "duration": 0.096287,
     "end_time": "2025-04-17T16:04:57.286042",
     "exception": false,
     "start_time": "2025-04-17T16:04:57.189755",
     "status": "completed"
    },
    "tags": []
   },
   "outputs": [
    {
     "name": "stderr",
     "output_type": "stream",
     "text": [
      "/tmp/ipykernel_7051/742166644.py:4: FutureWarning: `tokenizer` is deprecated and will be removed in version 5.0.0 for `CustomTrainer.__init__`. Use `processing_class` instead.\n",
      "  super().__init__(*args, **kwargs)\n",
      "No label_names provided for model class `PeftModelForSequenceClassification`. Since `PeftModel` hides base models input arguments, if label_names is not given, label_names can't be set automatically within `Trainer`. Note that empty label_names list will be used instead.\n"
     ]
    },
    {
     "name": "stdout",
     "output_type": "stream",
     "text": [
      "\n",
      "Trainer initialized with LoRA-adapted model and custom metric tracking.\n"
     ]
    }
   ],
   "source": [
    "# Initialize custom trainer with updated tracking\n",
    "trainer = CustomTrainer(\n",
    "    model=peft_model,\n",
    "    args=training_args,\n",
    "    train_dataset=trainDataset,\n",
    "    eval_dataset=evalDataset,\n",
    "    tokenizer=tokenizer,\n",
    "    data_collator=data_collator,\n",
    "    compute_metrics=compute_metrics,\n",
    "    callbacks=[EarlyStoppingCallback(early_stopping_patience=2)],\n",
    ")\n",
    "\n",
    "print(\"\\nTrainer initialized with LoRA-adapted model and custom metric tracking.\")"
   ]
  },
  {
   "cell_type": "markdown",
   "id": "9b848278",
   "metadata": {
    "id": "9b848278",
    "papermill": {
     "duration": 0.022402,
     "end_time": "2025-04-17T16:04:57.328950",
     "exception": false,
     "start_time": "2025-04-17T16:04:57.306548",
     "status": "completed"
    },
    "tags": []
   },
   "source": [
    "# Start Training"
   ]
  },
  {
   "cell_type": "code",
   "execution_count": 20,
   "id": "98d9d57d-b57f-4acc-80fb-fc5443e75515",
   "metadata": {
    "execution": {
     "iopub.execute_input": "2025-04-17T16:04:57.372566Z",
     "iopub.status.busy": "2025-04-17T16:04:57.371749Z",
     "iopub.status.idle": "2025-04-17T16:47:40.693008Z",
     "shell.execute_reply": "2025-04-17T16:47:40.692464Z"
    },
    "id": "98d9d57d-b57f-4acc-80fb-fc5443e75515",
    "papermill": {
     "duration": 2563.344275,
     "end_time": "2025-04-17T16:47:40.694172",
     "exception": false,
     "start_time": "2025-04-17T16:04:57.349897",
     "status": "completed"
    },
    "tags": []
   },
   "outputs": [
    {
     "name": "stdout",
     "output_type": "stream",
     "text": [
      "\n",
      "================================================================================\n",
      "MODEL TRAINING INITIATED\n",
      "================================================================================\n"
     ]
    },
    {
     "data": {
      "text/html": [
       "\n",
       "    <div>\n",
       "      \n",
       "      <progress value='4968' max='18630' style='width:300px; height:20px; vertical-align: middle;'></progress>\n",
       "      [ 4968/18630 42:41 < 1:57:27, 1.94 it/s, Epoch 7/30]\n",
       "    </div>\n",
       "    <table border=\"1\" class=\"dataframe\">\n",
       "  <thead>\n",
       " <tr style=\"text-align: left;\">\n",
       "      <th>Epoch</th>\n",
       "      <th>Training Loss</th>\n",
       "      <th>Validation Loss</th>\n",
       "      <th>Accuracy</th>\n",
       "      <th>Precision</th>\n",
       "      <th>Recall</th>\n",
       "      <th>F1</th>\n",
       "      <th>Precision World</th>\n",
       "      <th>Recall World</th>\n",
       "      <th>F1 World</th>\n",
       "      <th>Precision Sports</th>\n",
       "      <th>Recall Sports</th>\n",
       "      <th>F1 Sports</th>\n",
       "      <th>Precision Business</th>\n",
       "      <th>Recall Business</th>\n",
       "      <th>F1 Business</th>\n",
       "      <th>Precision Sci/tech</th>\n",
       "      <th>Recall Sci/tech</th>\n",
       "      <th>F1 Sci/tech</th>\n",
       "    </tr>\n",
       "  </thead>\n",
       "  <tbody>\n",
       "    <tr>\n",
       "      <td>0</td>\n",
       "      <td>0.433000</td>\n",
       "      <td>0.413074</td>\n",
       "      <td>0.907813</td>\n",
       "      <td>0.907303</td>\n",
       "      <td>0.907813</td>\n",
       "      <td>0.907341</td>\n",
       "      <td>0.898305</td>\n",
       "      <td>0.854839</td>\n",
       "      <td>0.876033</td>\n",
       "      <td>0.955801</td>\n",
       "      <td>0.988571</td>\n",
       "      <td>0.971910</td>\n",
       "      <td>0.888889</td>\n",
       "      <td>0.872727</td>\n",
       "      <td>0.880734</td>\n",
       "      <td>0.882682</td>\n",
       "      <td>0.897727</td>\n",
       "      <td>0.890141</td>\n",
       "    </tr>\n",
       "    <tr>\n",
       "      <td>1</td>\n",
       "      <td>0.405400</td>\n",
       "      <td>0.388575</td>\n",
       "      <td>0.928125</td>\n",
       "      <td>0.928279</td>\n",
       "      <td>0.928125</td>\n",
       "      <td>0.927847</td>\n",
       "      <td>0.939130</td>\n",
       "      <td>0.870968</td>\n",
       "      <td>0.903766</td>\n",
       "      <td>0.972067</td>\n",
       "      <td>0.994286</td>\n",
       "      <td>0.983051</td>\n",
       "      <td>0.908537</td>\n",
       "      <td>0.903030</td>\n",
       "      <td>0.905775</td>\n",
       "      <td>0.895604</td>\n",
       "      <td>0.926136</td>\n",
       "      <td>0.910615</td>\n",
       "    </tr>\n",
       "    <tr>\n",
       "      <td>2</td>\n",
       "      <td>0.367400</td>\n",
       "      <td>0.372917</td>\n",
       "      <td>0.937500</td>\n",
       "      <td>0.938064</td>\n",
       "      <td>0.937500</td>\n",
       "      <td>0.937381</td>\n",
       "      <td>0.918699</td>\n",
       "      <td>0.911290</td>\n",
       "      <td>0.914980</td>\n",
       "      <td>0.983051</td>\n",
       "      <td>0.994286</td>\n",
       "      <td>0.988636</td>\n",
       "      <td>0.948387</td>\n",
       "      <td>0.890909</td>\n",
       "      <td>0.918750</td>\n",
       "      <td>0.897297</td>\n",
       "      <td>0.943182</td>\n",
       "      <td>0.919668</td>\n",
       "    </tr>\n",
       "    <tr>\n",
       "      <td>3</td>\n",
       "      <td>0.355800</td>\n",
       "      <td>0.350448</td>\n",
       "      <td>0.940625</td>\n",
       "      <td>0.942448</td>\n",
       "      <td>0.940625</td>\n",
       "      <td>0.940562</td>\n",
       "      <td>0.957265</td>\n",
       "      <td>0.903226</td>\n",
       "      <td>0.929461</td>\n",
       "      <td>0.988636</td>\n",
       "      <td>0.994286</td>\n",
       "      <td>0.991453</td>\n",
       "      <td>0.948052</td>\n",
       "      <td>0.884848</td>\n",
       "      <td>0.915361</td>\n",
       "      <td>0.880829</td>\n",
       "      <td>0.965909</td>\n",
       "      <td>0.921409</td>\n",
       "    </tr>\n",
       "    <tr>\n",
       "      <td>4</td>\n",
       "      <td>0.344400</td>\n",
       "      <td>0.346025</td>\n",
       "      <td>0.945312</td>\n",
       "      <td>0.945540</td>\n",
       "      <td>0.945312</td>\n",
       "      <td>0.945211</td>\n",
       "      <td>0.933884</td>\n",
       "      <td>0.911290</td>\n",
       "      <td>0.922449</td>\n",
       "      <td>0.983051</td>\n",
       "      <td>0.994286</td>\n",
       "      <td>0.988636</td>\n",
       "      <td>0.949686</td>\n",
       "      <td>0.915152</td>\n",
       "      <td>0.932099</td>\n",
       "      <td>0.912568</td>\n",
       "      <td>0.948864</td>\n",
       "      <td>0.930362</td>\n",
       "    </tr>\n",
       "    <tr>\n",
       "      <td>5</td>\n",
       "      <td>0.336000</td>\n",
       "      <td>0.339559</td>\n",
       "      <td>0.951562</td>\n",
       "      <td>0.951627</td>\n",
       "      <td>0.951562</td>\n",
       "      <td>0.951466</td>\n",
       "      <td>0.958333</td>\n",
       "      <td>0.927419</td>\n",
       "      <td>0.942623</td>\n",
       "      <td>0.983051</td>\n",
       "      <td>0.994286</td>\n",
       "      <td>0.988636</td>\n",
       "      <td>0.938272</td>\n",
       "      <td>0.921212</td>\n",
       "      <td>0.929664</td>\n",
       "      <td>0.928177</td>\n",
       "      <td>0.954545</td>\n",
       "      <td>0.941176</td>\n",
       "    </tr>\n",
       "    <tr>\n",
       "      <td>6</td>\n",
       "      <td>0.326000</td>\n",
       "      <td>0.336720</td>\n",
       "      <td>0.945312</td>\n",
       "      <td>0.945975</td>\n",
       "      <td>0.945312</td>\n",
       "      <td>0.945176</td>\n",
       "      <td>0.957983</td>\n",
       "      <td>0.919355</td>\n",
       "      <td>0.938272</td>\n",
       "      <td>0.983051</td>\n",
       "      <td>0.994286</td>\n",
       "      <td>0.988636</td>\n",
       "      <td>0.942675</td>\n",
       "      <td>0.896970</td>\n",
       "      <td>0.919255</td>\n",
       "      <td>0.903743</td>\n",
       "      <td>0.960227</td>\n",
       "      <td>0.931129</td>\n",
       "    </tr>\n",
       "    <tr>\n",
       "      <td>7</td>\n",
       "      <td>0.323200</td>\n",
       "      <td>0.324850</td>\n",
       "      <td>0.948438</td>\n",
       "      <td>0.948831</td>\n",
       "      <td>0.948438</td>\n",
       "      <td>0.948351</td>\n",
       "      <td>0.957627</td>\n",
       "      <td>0.911290</td>\n",
       "      <td>0.933884</td>\n",
       "      <td>0.983051</td>\n",
       "      <td>0.994286</td>\n",
       "      <td>0.988636</td>\n",
       "      <td>0.944099</td>\n",
       "      <td>0.921212</td>\n",
       "      <td>0.932515</td>\n",
       "      <td>0.913043</td>\n",
       "      <td>0.954545</td>\n",
       "      <td>0.933333</td>\n",
       "    </tr>\n",
       "  </tbody>\n",
       "</table><p>"
      ],
      "text/plain": [
       "<IPython.core.display.HTML object>"
      ]
     },
     "metadata": {},
     "output_type": "display_data"
    },
    {
     "name": "stdout",
     "output_type": "stream",
     "text": [
      "\n",
      "================================================================================\n",
      "TRAINING PHASE COMPLETED\n",
      "================================================================================\n"
     ]
    },
    {
     "name": "stdout",
     "output_type": "stream",
     "text": [
      "\n",
      "Model and tokenizer have been saved to: ./saved_model\n"
     ]
    }
   ],
   "source": [
    "print(\"\\n\" + \"=\" * 80)\n",
    "print(\"MODEL TRAINING INITIATED\")\n",
    "print(\"=\" * 80)\n",
    "\n",
    "# Begin training process\n",
    "trainer.train()\n",
    "\n",
    "print(\"\\n\" + \"=\" * 80)\n",
    "print(\"TRAINING PHASE COMPLETED\")\n",
    "print(\"=\" * 80)\n",
    "\n",
    "# Define path to save model artifacts\n",
    "save_path = \"./saved_model\"\n",
    "os.makedirs(save_path, exist_ok=True)\n",
    "\n",
    "# Persist model and tokenizer\n",
    "peft_model.save_pretrained(save_path)\n",
    "tokenizer.save_pretrained(save_path)\n",
    "\n",
    "print(f\"\\nModel and tokenizer have been saved to: {save_path}\")"
   ]
  },
  {
   "cell_type": "markdown",
   "id": "5183be7e-514f-4e64-a6f4-314a827e6be5",
   "metadata": {
    "id": "5183be7e-514f-4e64-a6f4-314a827e6be5",
    "papermill": {
     "duration": 0.019741,
     "end_time": "2025-04-17T16:47:40.735973",
     "exception": false,
     "start_time": "2025-04-17T16:47:40.716232",
     "status": "completed"
    },
    "tags": []
   },
   "source": [
    "## Evaluate Finetuned Model\n"
   ]
  },
  {
   "cell_type": "markdown",
   "id": "038198cf-0953-47e7-bd47-b073d05f8378",
   "metadata": {
    "id": "038198cf-0953-47e7-bd47-b073d05f8378",
    "papermill": {
     "duration": 0.027413,
     "end_time": "2025-04-17T16:47:40.783378",
     "exception": false,
     "start_time": "2025-04-17T16:47:40.755965",
     "status": "completed"
    },
    "tags": []
   },
   "source": [
    "### Performing Inference on Custom Input\n",
    "Uncomment following functions for running inference on custom inputs"
   ]
  },
  {
   "cell_type": "code",
   "execution_count": 21,
   "id": "f88ad420-3f46-4eff-9d71-0ce388163062",
   "metadata": {
    "execution": {
     "iopub.execute_input": "2025-04-17T16:47:40.825068Z",
     "iopub.status.busy": "2025-04-17T16:47:40.824810Z",
     "iopub.status.idle": "2025-04-17T16:47:40.829843Z",
     "shell.execute_reply": "2025-04-17T16:47:40.829343Z"
    },
    "id": "f88ad420-3f46-4eff-9d71-0ce388163062",
    "papermill": {
     "duration": 0.027457,
     "end_time": "2025-04-17T16:47:40.830800",
     "exception": false,
     "start_time": "2025-04-17T16:47:40.803343",
     "status": "completed"
    },
    "tags": []
   },
   "outputs": [
    {
     "name": "stdout",
     "output_type": "stream",
     "text": [
      "\n",
      "================================================================================\n",
      "MODEL EVALUATION ON MANUAL INPUT\n",
      "================================================================================\n"
     ]
    }
   ],
   "source": [
    "print(\"\\n\" + \"=\" * 80)\n",
    "print(\"MODEL EVALUATION ON MANUAL INPUT\")\n",
    "print(\"=\" * 80)\n",
    "\n",
    "def predict_label(model, tokenizer, text):\n",
    "    # Set device\n",
    "    device = torch.device(\"cuda\" if torch.cuda.is_available() else \"cpu\")\n",
    "\n",
    "    # Tokenize and move to device\n",
    "    encoded = tokenizer(text, return_tensors=\"pt\", padding=True, truncation=True).to(device)\n",
    "\n",
    "    # Run model prediction\n",
    "    with torch.no_grad():\n",
    "        outputs = model(**encoded)\n",
    "        predicted_class = outputs.logits.argmax(dim=-1).item()\n",
    "\n",
    "    label = id2label[predicted_class]\n",
    "    print(f\"\\nPredicted class ID: {predicted_class} → Label: {label}\")\n",
    "    print(f\"Input text: {text.strip()}\")\n",
    "\n",
    "    return label"
   ]
  },
  {
   "cell_type": "code",
   "execution_count": 22,
   "id": "fc52bb94-5e13-4943-9225-a6d7fd053579",
   "metadata": {
    "execution": {
     "iopub.execute_input": "2025-04-17T16:47:40.879124Z",
     "iopub.status.busy": "2025-04-17T16:47:40.878855Z",
     "iopub.status.idle": "2025-04-17T16:47:40.945603Z",
     "shell.execute_reply": "2025-04-17T16:47:40.945109Z"
    },
    "id": "fc52bb94-5e13-4943-9225-a6d7fd053579",
    "papermill": {
     "duration": 0.094926,
     "end_time": "2025-04-17T16:47:40.946568",
     "exception": false,
     "start_time": "2025-04-17T16:47:40.851642",
     "status": "completed"
    },
    "tags": []
   },
   "outputs": [
    {
     "name": "stdout",
     "output_type": "stream",
     "text": [
      "\n",
      "Predicted class ID: 1 → Label: Sports\n",
      "Input text: Kederis proclaims innocence Olympic champion Kostas Kederis today left hospital ahead of his date with IOC inquisitors claiming his ...\n",
      "\n",
      "Predicted class ID: 2 → Label: Business\n",
      "Input text: Wall St. Bears Claw Back Into the Black (Reuters) Reuters - Short-sellers, Wall Street's dwindling band of ultra-cynics, are seeing green again.\n"
     ]
    },
    {
     "data": {
      "text/plain": [
       "'Business'"
      ]
     },
     "execution_count": 22,
     "metadata": {},
     "output_type": "execute_result"
    }
   ],
   "source": [
    "# Example 1: Olympic headline\n",
    "predict_label(\n",
    "    peft_model,\n",
    "    tokenizer,\n",
    "    \"Kederis proclaims innocence Olympic champion Kostas Kederis today left hospital ahead of his date with IOC inquisitors claiming his ...\"\n",
    ")\n",
    "\n",
    "# Example 2: Wall Street headline\n",
    "predict_label(\n",
    "    peft_model,\n",
    "    tokenizer,\n",
    "    \"Wall St. Bears Claw Back Into the Black (Reuters) Reuters - Short-sellers, Wall Street's dwindling band of ultra-cynics, are seeing green again.\"\n",
    ")"
   ]
  },
  {
   "cell_type": "markdown",
   "id": "68a3e276-bf8c-4403-8a48-5ef19f2beccf",
   "metadata": {
    "id": "68a3e276-bf8c-4403-8a48-5ef19f2beccf",
    "papermill": {
     "duration": 0.020757,
     "end_time": "2025-04-17T16:47:40.989150",
     "exception": false,
     "start_time": "2025-04-17T16:47:40.968393",
     "status": "completed"
    },
    "tags": []
   },
   "source": [
    "### Run Inference on eval_dataset"
   ]
  },
  {
   "cell_type": "code",
   "execution_count": 23,
   "id": "ebbc20a2-a1c0-4cb7-b842-f52e4de61ed5",
   "metadata": {
    "execution": {
     "iopub.execute_input": "2025-04-17T16:47:41.033210Z",
     "iopub.status.busy": "2025-04-17T16:47:41.032815Z",
     "iopub.status.idle": "2025-04-17T16:47:41.894981Z",
     "shell.execute_reply": "2025-04-17T16:47:41.894416Z"
    },
    "id": "ebbc20a2-a1c0-4cb7-b842-f52e4de61ed5",
    "papermill": {
     "duration": 0.885464,
     "end_time": "2025-04-17T16:47:41.896028",
     "exception": false,
     "start_time": "2025-04-17T16:47:41.010564",
     "status": "completed"
    },
    "tags": []
   },
   "outputs": [
    {
     "name": "stdout",
     "output_type": "stream",
     "text": [
      "\n",
      "================================================================================\n",
      "🔍 COMPREHENSIVE MODEL EVALUATION\n",
      "================================================================================\n",
      "📊 METHOD 1: Standard Evaluation via Trainer API\n",
      "-----------------------------------------------------------------\n"
     ]
    },
    {
     "data": {
      "text/html": [],
      "text/plain": [
       "<IPython.core.display.HTML object>"
      ]
     },
     "metadata": {},
     "output_type": "display_data"
    },
    {
     "name": "stdout",
     "output_type": "stream",
     "text": [
      "🔢 Complete evaluation metrics:\n",
      "  • eval_loss: 0.3396\n",
      "  • eval_accuracy: 0.9516\n",
      "  • eval_precision: 0.9516\n",
      "  • eval_recall: 0.9516\n",
      "  • eval_f1: 0.9515\n",
      "  • eval_precision_World: 0.9583\n",
      "  • eval_recall_World: 0.9274\n",
      "  • eval_f1_World: 0.9426\n",
      "  • eval_precision_Sports: 0.9831\n",
      "  • eval_recall_Sports: 0.9943\n",
      "  • eval_f1_Sports: 0.9886\n",
      "  • eval_precision_Business: 0.9383\n",
      "  • eval_recall_Business: 0.9212\n",
      "  • eval_f1_Business: 0.9297\n",
      "  • eval_precision_Sci/Tech: 0.9282\n",
      "  • eval_recall_Sci/Tech: 0.9545\n",
      "  • eval_f1_Sci/Tech: 0.9412\n",
      "  • eval_runtime: 0.7491\n",
      "  • eval_samples_per_second: 854.3670\n",
      "  • eval_steps_per_second: 13.3490\n",
      "  • epoch: 7.9988\n",
      "\n",
      "🎯 PRIMARY ACCURACY METRIC: 0.9516\n",
      "✅ SUCCESS: Model exceeds the minimum accuracy requirement of 80%\n",
      "\n",
      "📊 METHOD 2: Detailed Batch-Level Evaluation\n",
      "-----------------------------------------------------------------\n"
     ]
    }
   ],
   "source": [
    "print(\"\\n\" + \"=\"*80)\n",
    "print(\"🔍 COMPREHENSIVE MODEL EVALUATION\")\n",
    "print(\"=\"*80)\n",
    "\n",
    "# -----------------------------------------------------------------------------\n",
    "# First Evaluation Method\n",
    "# -----------------------------------------------------------------------------\n",
    "print(\"📊 METHOD 1: Standard Evaluation via Trainer API\")\n",
    "print(\"-\" * 65)\n",
    "\n",
    "# Run evaluation using the Transformer's built-in method\n",
    "eval_results = trainer.evaluate(evalDataset)\n",
    "\n",
    "# Display full evaluation metrics\n",
    "print(f\"🔢 Complete evaluation metrics:\")\n",
    "for metric, value in eval_results.items():\n",
    "    print(f\"  • {metric}: {value:.4f}\")\n",
    "\n",
    "# Extract and highlight primary accuracy metric\n",
    "final_eval_accuracy = eval_results.get(\"eval_accuracy\", 0)\n",
    "print(f\"\\n🎯 PRIMARY ACCURACY METRIC: {final_eval_accuracy:.4f}\")\n",
    "\n",
    "# Check if accuracy meets academic requirements\n",
    "if final_eval_accuracy < 0.80:\n",
    "    print(f\"⚠️  WARNING: Model accuracy ({final_eval_accuracy:.4f}) is below the required 80% threshold!\")\n",
    "else:\n",
    "    print(f\"✅ SUCCESS: Model exceeds the minimum accuracy requirement of 80%\")\n",
    "\n",
    "# -----------------------------------------------------------------------------\n",
    "# Second Evaluation Method\n",
    "# -----------------------------------------------------------------------------\n",
    "print(\"\\n📊 METHOD 2: Detailed Batch-Level Evaluation\")\n",
    "print(\"-\" * 65)\n",
    "\n",
    "def detailed_model_evaluation(model, dataset, labeled=True, batch_size=8, collator=None):\n",
    "    \"\"\"\n",
    "    Performs a granular evaluation of model performance with detailed progress tracking.\n",
    "    \n",
    "    Parameters:\n",
    "    -----------\n",
    "    model : The model to evaluate\n",
    "    dataset : Dataset object containing evaluation examples\n",
    "    labeled : Whether the dataset includes ground truth labels\n",
    "    batch_size : Number of examples to process simultaneously\n",
    "    collator : Function to prepare batches\n",
    "    \n",
    "    Returns:\n",
    "    --------\n",
    "    metrics : Dictionary containing evaluation metrics (if labeled=True)\n",
    "    predictions : Model predictions for all examples\n",
    "    \"\"\"\n",
    "    # Setup evaluation environment\n",
    "    print(f\"📋 Evaluation Configuration:\")\n",
    "    print(f\"  • Dataset size:  {len(dataset)} examples\")\n",
    "    print(f\"  • Batch size:    {batch_size}\")\n",
    "    print(f\"  • Data format:   {dataset.format}\")\n",
    "    print(f\"  • Mode:          {'Labeled evaluation' if labeled else 'Inference only'}\")\n",
    "    \n",
    "    # Initialize hardware\n",
    "    device = torch.device(\"cuda\" if torch.cuda.is_available() else \"cpu\")\n",
    "    print(f\"  • Hardware:      {device.type.upper()}\")\n",
    "    \n",
    "    # Create evaluation DataLoader\n",
    "    data_loader = DataLoader(\n",
    "        dataset, \n",
    "        batch_size=batch_size, \n",
    "        collate_fn=collator,\n",
    "        shuffle=False  # Keep original order\n",
    "    )\n",
    "    print(f\"  • Total batches: {len(data_loader)}\")\n",
    "    \n",
    "    # Prepare model\n",
    "    model.to(device)\n",
    "    model.eval()\n",
    "    print(\"🔄 Model prepared for evaluation\")\n",
    "    \n",
    "    # Initialize metrics collection\n",
    "    predictions = []\n",
    "    if labeled:\n",
    "        metric = evaluate.load('accuracy')\n",
    "        print(\"📏 Accuracy metric loaded\")\n",
    "    \n",
    "    # Progress tracking\n",
    "    print(\"\\n⏳ Starting evaluation loop...\")\n",
    "    \n",
    "    # Process batches\n",
    "    for batch_idx, batch in enumerate(tqdm(data_loader, desc=\"Evaluating batches\")):\n",
    "        # Report progress periodically\n",
    "        if batch_idx % 10 == 0 and batch_idx > 0:\n",
    "            print(f\"  ↳ Processed {batch_idx}/{len(data_loader)} batches\")\n",
    "            \n",
    "        # Move batch to appropriate device\n",
    "        batch = {k: v.to(device) for k, v in batch.items()}\n",
    "        \n",
    "        # Run inference (no gradient tracking needed)\n",
    "        with torch.no_grad():\n",
    "            outputs = model(**batch)\n",
    "        \n",
    "        # Extract predictions\n",
    "        batch_predictions = outputs.logits.argmax(dim=-1)\n",
    "        predictions.append(batch_predictions.cpu())\n",
    "        \n",
    "        # Update metrics if labeled data\n",
    "        if labeled:\n",
    "            ground_truth = batch[\"labels\"]\n",
    "            metric.add_batch(\n",
    "                predictions=batch_predictions.cpu().numpy(),\n",
    "                references=ground_truth.cpu().numpy()\n",
    "            )\n",
    "    \n",
    "    # Combine all batch predictions\n",
    "    all_predictions = torch.cat(predictions, dim=0)\n",
    "    print(f\"✅ Evaluation complete - processed {len(all_predictions)} examples\")\n",
    "    \n",
    "    # Return results based on evaluation mode\n",
    "    if labeled:\n",
    "        final_metrics = metric.compute()\n",
    "        print(f\"📈 Final evaluation metric: {final_metrics}\")\n",
    "        return final_metrics, all_predictions\n",
    "    else:\n",
    "        return all_predictions"
   ]
  },
  {
   "cell_type": "markdown",
   "id": "e0a52645",
   "metadata": {
    "papermill": {
     "duration": 0.022763,
     "end_time": "2025-04-17T16:47:41.947784",
     "exception": false,
     "start_time": "2025-04-17T16:47:41.925021",
     "status": "completed"
    },
    "tags": []
   },
   "source": [
    "# Check evaluation accuracy"
   ]
  },
  {
   "cell_type": "code",
   "execution_count": 24,
   "id": "809635a6-a2c7-4d09-8d60-ababd1815003",
   "metadata": {
    "execution": {
     "iopub.execute_input": "2025-04-17T16:47:41.999187Z",
     "iopub.status.busy": "2025-04-17T16:47:41.998532Z",
     "iopub.status.idle": "2025-04-17T16:47:44.305755Z",
     "shell.execute_reply": "2025-04-17T16:47:44.305118Z"
    },
    "id": "809635a6-a2c7-4d09-8d60-ababd1815003",
    "papermill": {
     "duration": 2.330884,
     "end_time": "2025-04-17T16:47:44.306802",
     "exception": false,
     "start_time": "2025-04-17T16:47:41.975918",
     "status": "completed"
    },
    "tags": []
   },
   "outputs": [
    {
     "name": "stdout",
     "output_type": "stream",
     "text": [
      "\n",
      "Running evaluation according to professor's code pattern:\n",
      "# Check evaluation accuracy\n",
      "📋 Evaluation Configuration:\n",
      "  • Dataset size:  640 examples\n",
      "  • Batch size:    8\n",
      "  • Data format:   {'type': None, 'format_kwargs': {}, 'columns': ['labels', 'input_ids', 'attention_mask'], 'output_all_columns': False}\n",
      "  • Mode:          Labeled evaluation\n",
      "  • Hardware:      CUDA\n",
      "  • Total batches: 80\n",
      "🔄 Model prepared for evaluation\n"
     ]
    },
    {
     "name": "stdout",
     "output_type": "stream",
     "text": [
      "📏 Accuracy metric loaded\n",
      "\n",
      "⏳ Starting evaluation loop...\n"
     ]
    },
    {
     "name": "stderr",
     "output_type": "stream",
     "text": [
      "\r\n",
      "Evaluating batches:   0%|                                | 0/80 [00:00<?, ?it/s]"
     ]
    },
    {
     "name": "stderr",
     "output_type": "stream",
     "text": [
      "\r\n",
      "Evaluating batches:   4%|▉                       | 3/80 [00:00<00:02, 29.79it/s]"
     ]
    },
    {
     "name": "stderr",
     "output_type": "stream",
     "text": [
      "\r\n",
      "Evaluating batches:  10%|██▍                     | 8/80 [00:00<00:01, 37.61it/s]"
     ]
    },
    {
     "name": "stderr",
     "output_type": "stream",
     "text": [
      "\r\n",
      "Evaluating batches:  16%|███▋                   | 13/80 [00:00<00:01, 39.49it/s]"
     ]
    },
    {
     "name": "stderr",
     "output_type": "stream",
     "text": [
      "\r\n",
      "Evaluating batches:  22%|█████▏                 | 18/80 [00:00<00:01, 40.62it/s]"
     ]
    },
    {
     "name": "stdout",
     "output_type": "stream",
     "text": [
      "  ↳ Processed 10/80 batches\n"
     ]
    },
    {
     "name": "stderr",
     "output_type": "stream",
     "text": [
      "\r\n",
      "Evaluating batches:  29%|██████▌                | 23/80 [00:00<00:01, 40.67it/s]"
     ]
    },
    {
     "name": "stderr",
     "output_type": "stream",
     "text": [
      "\r\n",
      "Evaluating batches:  35%|████████               | 28/80 [00:00<00:01, 41.07it/s]"
     ]
    },
    {
     "name": "stdout",
     "output_type": "stream",
     "text": [
      "  ↳ Processed 20/80 batches\n"
     ]
    },
    {
     "name": "stderr",
     "output_type": "stream",
     "text": [
      "\r\n",
      "Evaluating batches:  41%|█████████▍             | 33/80 [00:00<00:01, 41.10it/s]"
     ]
    },
    {
     "name": "stderr",
     "output_type": "stream",
     "text": [
      "\r\n",
      "Evaluating batches:  48%|██████████▉            | 38/80 [00:00<00:01, 41.52it/s]"
     ]
    },
    {
     "name": "stdout",
     "output_type": "stream",
     "text": [
      "  ↳ Processed 30/80 batches\n"
     ]
    },
    {
     "name": "stderr",
     "output_type": "stream",
     "text": [
      "\r\n",
      "Evaluating batches:  54%|████████████▎          | 43/80 [00:01<00:00, 41.78it/s]"
     ]
    },
    {
     "name": "stderr",
     "output_type": "stream",
     "text": [
      "\r\n",
      "Evaluating batches:  60%|█████████████▊         | 48/80 [00:01<00:00, 42.01it/s]"
     ]
    },
    {
     "name": "stdout",
     "output_type": "stream",
     "text": [
      "  ↳ Processed 40/80 batches\n"
     ]
    },
    {
     "name": "stderr",
     "output_type": "stream",
     "text": [
      "\r\n",
      "Evaluating batches:  66%|███████████████▏       | 53/80 [00:01<00:00, 41.50it/s]"
     ]
    },
    {
     "name": "stderr",
     "output_type": "stream",
     "text": [
      "\r\n",
      "Evaluating batches:  72%|████████████████▋      | 58/80 [00:01<00:00, 41.45it/s]"
     ]
    },
    {
     "name": "stdout",
     "output_type": "stream",
     "text": [
      "  ↳ Processed 50/80 batches\n"
     ]
    },
    {
     "name": "stderr",
     "output_type": "stream",
     "text": [
      "\r\n",
      "Evaluating batches:  79%|██████████████████     | 63/80 [00:01<00:00, 41.51it/s]"
     ]
    },
    {
     "name": "stderr",
     "output_type": "stream",
     "text": [
      "\r\n",
      "Evaluating batches:  85%|███████████████████▌   | 68/80 [00:01<00:00, 41.60it/s]"
     ]
    },
    {
     "name": "stdout",
     "output_type": "stream",
     "text": [
      "  ↳ Processed 60/80 batches\n"
     ]
    },
    {
     "name": "stderr",
     "output_type": "stream",
     "text": [
      "\r\n",
      "Evaluating batches:  91%|████████████████████▉  | 73/80 [00:01<00:00, 41.78it/s]"
     ]
    },
    {
     "name": "stderr",
     "output_type": "stream",
     "text": [
      "\r\n",
      "Evaluating batches:  98%|██████████████████████▍| 78/80 [00:01<00:00, 41.59it/s]"
     ]
    },
    {
     "name": "stdout",
     "output_type": "stream",
     "text": [
      "  ↳ Processed 70/80 batches\n"
     ]
    },
    {
     "name": "stderr",
     "output_type": "stream",
     "text": [
      "\r\n",
      "Evaluating batches: 100%|███████████████████████| 80/80 [00:01<00:00, 41.08it/s]"
     ]
    },
    {
     "name": "stdout",
     "output_type": "stream",
     "text": [
      "✅ Evaluation complete - processed 640 examples\n",
      "📈 Final evaluation metric: {'accuracy': 0.9515625}\n",
      "\n",
      "--------------------------------------------------\n",
      "COMPARISON OF EVALUATION METHODS\n",
      "--------------------------------------------------\n",
      "Trainer method accuracy: 0.9516\n",
      "Professor's method accuracy: 0.9516\n",
      "Difference: 0.0000\n",
      "✅ Both methods yield similar results (difference < 0.01)\n"
     ]
    },
    {
     "name": "stderr",
     "output_type": "stream",
     "text": [
      "\n"
     ]
    }
   ],
   "source": [
    "# Run professor's evaluation code following his notebook pattern\n",
    "print(\"\\nRunning evaluation according to professor's code pattern:\")\n",
    "print(\"# Check evaluation accuracy\")\n",
    "eval_metric, predictions = detailed_model_evaluation(peft_model, evalDataset, True, 8, data_collator)\n",
    "\n",
    "# Compare results from both methods\n",
    "print(\"\\n\" + \"-\"*50)\n",
    "print(\"COMPARISON OF EVALUATION METHODS\")\n",
    "print(\"-\"*50)\n",
    "print(f\"Trainer method accuracy: {final_eval_accuracy:.4f}\")\n",
    "print(f\"Professor's method accuracy: {eval_metric['accuracy']:.4f}\")\n",
    "accuracy_diff = abs(final_eval_accuracy - eval_metric['accuracy'])\n",
    "print(f\"Difference: {accuracy_diff:.4f}\")\n",
    "\n",
    "if accuracy_diff < 0.01:\n",
    "    print(f\"✅ Both methods yield similar results (difference < 0.01)\")\n",
    "else:\n",
    "    print(f\"⚠️ Methods show some difference in results with {accuracy_diff:.4f} difference\")"
   ]
  },
  {
   "cell_type": "markdown",
   "id": "7884027f",
   "metadata": {
    "papermill": {
     "duration": 0.028584,
     "end_time": "2025-04-17T16:47:44.358731",
     "exception": false,
     "start_time": "2025-04-17T16:47:44.330147",
     "status": "completed"
    },
    "tags": []
   },
   "source": [
    "# Additional Metrics and Visualization"
   ]
  },
  {
   "cell_type": "code",
   "execution_count": 25,
   "id": "ce9f8698",
   "metadata": {
    "execution": {
     "iopub.execute_input": "2025-04-17T16:47:44.402969Z",
     "iopub.status.busy": "2025-04-17T16:47:44.402721Z",
     "iopub.status.idle": "2025-04-17T16:47:46.102765Z",
     "shell.execute_reply": "2025-04-17T16:47:46.102124Z"
    },
    "papermill": {
     "duration": 1.72285,
     "end_time": "2025-04-17T16:47:46.103971",
     "exception": false,
     "start_time": "2025-04-17T16:47:44.381121",
     "status": "completed"
    },
    "tags": []
   },
   "outputs": [
    {
     "name": "stdout",
     "output_type": "stream",
     "text": [
      "\n",
      "================================================================================\n",
      "DETAILED METRICS AND VISUALIZATION\n",
      "================================================================================\n",
      "Generating detailed predictions using Trainer...\n"
     ]
    },
    {
     "name": "stdout",
     "output_type": "stream",
     "text": [
      "Confusion Matrix:\n",
      "[[115   0   5   4]\n",
      " [  1 174   0   0]\n",
      " [  1   3 152   9]\n",
      " [  3   0   5 168]]\n",
      "\n",
      "Detailed Classification Report:\n",
      "              precision    recall  f1-score   support\n",
      "\n",
      "       World       0.96      0.93      0.94       124\n",
      "      Sports       0.98      0.99      0.99       175\n",
      "    Business       0.94      0.92      0.93       165\n",
      "    Sci/Tech       0.93      0.95      0.94       176\n",
      "\n",
      "    accuracy                           0.95       640\n",
      "   macro avg       0.95      0.95      0.95       640\n",
      "weighted avg       0.95      0.95      0.95       640\n",
      "\n"
     ]
    },
    {
     "data": {
      "image/png": "[encoded data removed]",
      "text/plain": [
       "<Figure size 1000x800 with 2 Axes>"
      ]
     },
     "metadata": {},
     "output_type": "display_data"
    },
    {
     "data": {
      "image/png": "[encoded data removed]",
      "text/plain": [
       "<Figure size 1000x800 with 2 Axes>"
      ]
     },
     "metadata": {},
     "output_type": "display_data"
    },
    {
     "data": {
      "image/png": "[encoded data removed]",
      "text/plain": [
       "<Figure size 1000x600 with 1 Axes>"
      ]
     },
     "metadata": {},
     "output_type": "display_data"
    },
    {
     "name": "stdout",
     "output_type": "stream",
     "text": [
      "\n",
      "✅ Evaluation complete with detailed metrics and visualizations\n"
     ]
    }
   ],
   "source": [
    "# -----------------------------------------------------------------------------\n",
    "# ADDITIONAL EVALUATION METRICS AND VISUALIZATION\n",
    "# -----------------------------------------------------------------------------\n",
    "print(\"\\n\" + \"=\"*80)\n",
    "print(\"DETAILED METRICS AND VISUALIZATION\")\n",
    "print(\"=\"*80)\n",
    "\n",
    "# Generate predictions on the eval set\n",
    "print(\"Generating detailed predictions using Trainer...\")\n",
    "predictions_output = trainer.predict(evalDataset)\n",
    "y_true = predictions_output.label_ids\n",
    "y_pred = np.argmax(predictions_output.predictions, axis=1)\n",
    "\n",
    "# Compute confusion matrix and classification report\n",
    "from sklearn.metrics import confusion_matrix, classification_report, accuracy_score\n",
    "\n",
    "cm = confusion_matrix(y_true, y_pred)\n",
    "print(\"Confusion Matrix:\")\n",
    "print(cm)\n",
    "\n",
    "report = classification_report(y_true, y_pred, target_names=class_names)\n",
    "print(\"\\nDetailed Classification Report:\")\n",
    "print(report)\n",
    "\n",
    "# Create visualizations\n",
    "import matplotlib.pyplot as plt\n",
    "import seaborn as sns\n",
    "\n",
    "# 1. Plot confusion matrix\n",
    "plt.figure(figsize=(10, 8))\n",
    "sns.heatmap(cm, annot=True, fmt='d', cmap='Blues', xticklabels=class_names, yticklabels=class_names)\n",
    "plt.title('Confusion Matrix on Evaluation Set')\n",
    "plt.ylabel('True Label')\n",
    "plt.xlabel('Predicted Label')\n",
    "plt.tight_layout()\n",
    "plt.savefig('eval_confusion_matrix.png')\n",
    "plt.show()\n",
    "\n",
    "# 2. Plot normalized confusion matrix\n",
    "plt.figure(figsize=(10, 8))\n",
    "cm_norm = cm.astype('float') / cm.sum(axis=1)[:, np.newaxis]\n",
    "sns.heatmap(cm_norm, annot=True, fmt='.2f', cmap='Blues', xticklabels=class_names, yticklabels=class_names)\n",
    "plt.title('Normalized Confusion Matrix on Evaluation Set')\n",
    "plt.ylabel('True Label')\n",
    "plt.xlabel('Predicted Label')\n",
    "plt.tight_layout()\n",
    "plt.savefig('eval_normalized_confusion_matrix.png')\n",
    "plt.show()\n",
    "\n",
    "# 3. Plot per-class accuracy\n",
    "per_class_accuracy = cm_norm.diagonal()\n",
    "plt.figure(figsize=(10, 6))\n",
    "sns.barplot(x=list(range(len(class_names))), y=per_class_accuracy)\n",
    "plt.xticks(range(len(class_names)), class_names, rotation=45)\n",
    "plt.title('Per-Class Accuracy on Evaluation Set')\n",
    "plt.xlabel('Class')\n",
    "plt.ylabel('Accuracy')\n",
    "plt.tight_layout()\n",
    "plt.savefig('eval_per_class_accuracy.png')\n",
    "plt.show()\n",
    "\n",
    "print(\"\\n✅ Evaluation complete with detailed metrics and visualizations\")"
   ]
  },
  {
   "cell_type": "markdown",
   "id": "22625a6b",
   "metadata": {
    "papermill": {
     "duration": 0.032469,
     "end_time": "2025-04-17T16:47:46.178855",
     "exception": false,
     "start_time": "2025-04-17T16:47:46.146386",
     "status": "completed"
    },
    "tags": []
   },
   "source": [
    "# Unpickle the unlaballed data"
   ]
  },
  {
   "cell_type": "code",
   "execution_count": 26,
   "id": "c4ca81d5",
   "metadata": {
    "execution": {
     "iopub.execute_input": "2025-04-17T16:47:46.250980Z",
     "iopub.status.busy": "2025-04-17T16:47:46.250357Z",
     "iopub.status.idle": "2025-04-17T16:47:46.254049Z",
     "shell.execute_reply": "2025-04-17T16:47:46.253526Z"
    },
    "papermill": {
     "duration": 0.043007,
     "end_time": "2025-04-17T16:47:46.255106",
     "exception": false,
     "start_time": "2025-04-17T16:47:46.212099",
     "status": "completed"
    },
    "tags": []
   },
   "outputs": [],
   "source": [
    "def unpickle(file):\n",
    "    \"\"\"\n",
    "    Load data from pickle files efficiently.\n",
    "    \n",
    "    Args:\n",
    "        file: Path to pickle file\n",
    "    Returns:\n",
    "        Dictionary containing batch data\n",
    "    \"\"\"\n",
    "    print(f\"Loading file: {file}\")\n",
    "    with open(file, 'rb') as fo:\n",
    "        data_dict = pickle.load(fo, encoding='bytes')\n",
    "    return data_dict"
   ]
  },
  {
   "cell_type": "markdown",
   "id": "75f39087-f2bb-49d3-9fe1-0d812fb30203",
   "metadata": {
    "id": "75f39087-f2bb-49d3-9fe1-0d812fb30203",
    "papermill": {
     "duration": 0.029771,
     "end_time": "2025-04-17T16:47:46.311934",
     "exception": false,
     "start_time": "2025-04-17T16:47:46.282163",
     "status": "completed"
    },
    "tags": []
   },
   "source": [
    "### Run Inference on unlabelled dataset"
   ]
  },
  {
   "cell_type": "code",
   "execution_count": 27,
   "id": "2af62541-2c33-4f16-bb1c-cc969c715cd7",
   "metadata": {
    "execution": {
     "iopub.execute_input": "2025-04-17T16:47:46.376308Z",
     "iopub.status.busy": "2025-04-17T16:47:46.376025Z",
     "iopub.status.idle": "2025-04-17T16:47:58.993611Z",
     "shell.execute_reply": "2025-04-17T16:47:58.993086Z"
    },
    "id": "2af62541-2c33-4f16-bb1c-cc969c715cd7",
    "papermill": {
     "duration": 12.657144,
     "end_time": "2025-04-17T16:47:58.994569",
     "exception": false,
     "start_time": "2025-04-17T16:47:46.337425",
     "status": "completed"
    },
    "tags": []
   },
   "outputs": [
    {
     "name": "stdout",
     "output_type": "stream",
     "text": [
      "Loading unlabelled test data from ./data/test_unlabelled.pkl\n",
      "Loading file: ./data/test_unlabelled.pkl\n",
      "✅ Loaded unlabelled test dataset with 8000 examples\n",
      "✅ Loaded unlabelled test dataset with 8000 examples\n"
     ]
    },
    {
     "data": {
      "application/vnd.jupyter.widget-view+json": {
       "model_id": "800c622d66494c0b9175213e90bc6ea4",
       "version_major": 2,
       "version_minor": 0
      },
      "text/plain": [
       "Tokenizing unlabelled data:   0%|          | 0/8000 [00:00<?, ? examples/s]"
      ]
     },
     "metadata": {},
     "output_type": "display_data"
    },
    {
     "name": "stdout",
     "output_type": "stream",
     "text": [
      "Generating predictions for unlabelled data...\n",
      "📋 Evaluation Configuration:\n",
      "  • Dataset size:  8000 examples\n",
      "  • Batch size:    32\n",
      "  • Data format:   {'type': 'torch', 'format_kwargs': {}, 'columns': ['input_ids', 'attention_mask'], 'output_all_columns': False}\n",
      "  • Mode:          Inference only\n",
      "  • Hardware:      CUDA\n",
      "  • Total batches: 250\n",
      "🔄 Model prepared for evaluation\n",
      "\n",
      "⏳ Starting evaluation loop...\n"
     ]
    },
    {
     "name": "stderr",
     "output_type": "stream",
     "text": [
      "\r\n",
      "Evaluating batches:   0%|                               | 0/250 [00:00<?, ?it/s]"
     ]
    },
    {
     "name": "stderr",
     "output_type": "stream",
     "text": [
      "\r\n",
      "Evaluating batches:   2%|▎                      | 4/250 [00:00<00:06, 38.63it/s]"
     ]
    },
    {
     "name": "stderr",
     "output_type": "stream",
     "text": [
      "\r\n",
      "Evaluating batches:   3%|▋                      | 8/250 [00:00<00:06, 38.82it/s]"
     ]
    },
    {
     "name": "stderr",
     "output_type": "stream",
     "text": [
      "\r\n",
      "Evaluating batches:   5%|█                     | 12/250 [00:00<00:06, 39.18it/s]"
     ]
    },
    {
     "name": "stderr",
     "output_type": "stream",
     "text": [
      "\r\n",
      "Evaluating batches:   7%|█▍                    | 17/250 [00:00<00:05, 39.91it/s]"
     ]
    },
    {
     "name": "stdout",
     "output_type": "stream",
     "text": [
      "  ↳ Processed 10/250 batches\n"
     ]
    },
    {
     "name": "stderr",
     "output_type": "stream",
     "text": [
      "\r\n",
      "Evaluating batches:   9%|█▉                    | 22/250 [00:00<00:05, 40.02it/s]"
     ]
    },
    {
     "name": "stderr",
     "output_type": "stream",
     "text": [
      "\r\n",
      "Evaluating batches:  11%|██▍                   | 27/250 [00:00<00:05, 40.29it/s]"
     ]
    },
    {
     "name": "stdout",
     "output_type": "stream",
     "text": [
      "  ↳ Processed 20/250 batches\n"
     ]
    },
    {
     "name": "stderr",
     "output_type": "stream",
     "text": [
      "\r\n",
      "Evaluating batches:  13%|██▊                   | 32/250 [00:00<00:05, 40.11it/s]"
     ]
    },
    {
     "name": "stderr",
     "output_type": "stream",
     "text": [
      "\r\n",
      "Evaluating batches:  15%|███▎                  | 37/250 [00:00<00:05, 39.97it/s]"
     ]
    },
    {
     "name": "stdout",
     "output_type": "stream",
     "text": [
      "  ↳ Processed 30/250 batches\n"
     ]
    },
    {
     "name": "stderr",
     "output_type": "stream",
     "text": [
      "\r\n",
      "Evaluating batches:  17%|███▋                  | 42/250 [00:01<00:05, 40.10it/s]"
     ]
    },
    {
     "name": "stderr",
     "output_type": "stream",
     "text": [
      "\r\n",
      "Evaluating batches:  19%|████▏                 | 47/250 [00:01<00:05, 40.41it/s]"
     ]
    },
    {
     "name": "stdout",
     "output_type": "stream",
     "text": [
      "  ↳ Processed 40/250 batches\n"
     ]
    },
    {
     "name": "stderr",
     "output_type": "stream",
     "text": [
      "\r\n",
      "Evaluating batches:  21%|████▌                 | 52/250 [00:01<00:04, 40.35it/s]"
     ]
    },
    {
     "name": "stderr",
     "output_type": "stream",
     "text": [
      "\r\n",
      "Evaluating batches:  23%|█████                 | 57/250 [00:01<00:04, 40.59it/s]"
     ]
    },
    {
     "name": "stdout",
     "output_type": "stream",
     "text": [
      "  ↳ Processed 50/250 batches\n"
     ]
    },
    {
     "name": "stderr",
     "output_type": "stream",
     "text": [
      "\r\n",
      "Evaluating batches:  25%|█████▍                | 62/250 [00:01<00:04, 40.35it/s]"
     ]
    },
    {
     "name": "stderr",
     "output_type": "stream",
     "text": [
      "\r\n",
      "Evaluating batches:  27%|█████▉                | 67/250 [00:01<00:04, 39.88it/s]"
     ]
    },
    {
     "name": "stdout",
     "output_type": "stream",
     "text": [
      "  ↳ Processed 60/250 batches\n"
     ]
    },
    {
     "name": "stderr",
     "output_type": "stream",
     "text": [
      "\r\n",
      "Evaluating batches:  28%|██████▏               | 71/250 [00:01<00:04, 39.64it/s]"
     ]
    },
    {
     "name": "stderr",
     "output_type": "stream",
     "text": [
      "\r\n",
      "Evaluating batches:  30%|██████▌               | 75/250 [00:01<00:04, 39.48it/s]"
     ]
    },
    {
     "name": "stdout",
     "output_type": "stream",
     "text": [
      "  ↳ Processed 70/250 batches\n"
     ]
    },
    {
     "name": "stderr",
     "output_type": "stream",
     "text": [
      "\r\n",
      "Evaluating batches:  32%|██████▉               | 79/250 [00:01<00:04, 39.30it/s]"
     ]
    },
    {
     "name": "stderr",
     "output_type": "stream",
     "text": [
      "\r\n",
      "Evaluating batches:  33%|███████▎              | 83/250 [00:02<00:04, 39.23it/s]"
     ]
    },
    {
     "name": "stderr",
     "output_type": "stream",
     "text": [
      "\r\n",
      "Evaluating batches:  35%|███████▋              | 87/250 [00:02<00:04, 38.93it/s]"
     ]
    },
    {
     "name": "stdout",
     "output_type": "stream",
     "text": [
      "  ↳ Processed 80/250 batches\n"
     ]
    },
    {
     "name": "stderr",
     "output_type": "stream",
     "text": [
      "\r\n",
      "Evaluating batches:  36%|████████              | 91/250 [00:02<00:04, 38.92it/s]"
     ]
    },
    {
     "name": "stderr",
     "output_type": "stream",
     "text": [
      "\r\n",
      "Evaluating batches:  38%|████████▎             | 95/250 [00:02<00:03, 38.86it/s]"
     ]
    },
    {
     "name": "stdout",
     "output_type": "stream",
     "text": [
      "  ↳ Processed 90/250 batches\n"
     ]
    },
    {
     "name": "stderr",
     "output_type": "stream",
     "text": [
      "\r\n",
      "Evaluating batches:  40%|████████▍            | 100/250 [00:02<00:03, 39.41it/s]"
     ]
    },
    {
     "name": "stderr",
     "output_type": "stream",
     "text": [
      "\r\n",
      "Evaluating batches:  42%|████████▊            | 105/250 [00:02<00:03, 39.78it/s]"
     ]
    },
    {
     "name": "stdout",
     "output_type": "stream",
     "text": [
      "  ↳ Processed 100/250 batches\n"
     ]
    },
    {
     "name": "stderr",
     "output_type": "stream",
     "text": [
      "\r\n",
      "Evaluating batches:  44%|█████████▏           | 110/250 [00:02<00:03, 39.90it/s]"
     ]
    },
    {
     "name": "stderr",
     "output_type": "stream",
     "text": [
      "\r\n",
      "Evaluating batches:  46%|█████████▋           | 115/250 [00:02<00:03, 40.02it/s]"
     ]
    },
    {
     "name": "stdout",
     "output_type": "stream",
     "text": [
      "  ↳ Processed 110/250 batches\n"
     ]
    },
    {
     "name": "stderr",
     "output_type": "stream",
     "text": [
      "\r\n",
      "Evaluating batches:  48%|█████████▉           | 119/250 [00:02<00:03, 39.98it/s]"
     ]
    },
    {
     "name": "stderr",
     "output_type": "stream",
     "text": [
      "\r\n",
      "Evaluating batches:  49%|██████████▎          | 123/250 [00:03<00:03, 39.95it/s]"
     ]
    },
    {
     "name": "stderr",
     "output_type": "stream",
     "text": [
      "\r\n",
      "Evaluating batches:  51%|██████████▋          | 127/250 [00:03<00:03, 39.86it/s]"
     ]
    },
    {
     "name": "stdout",
     "output_type": "stream",
     "text": [
      "  ↳ Processed 120/250 batches\n"
     ]
    },
    {
     "name": "stderr",
     "output_type": "stream",
     "text": [
      "\r\n",
      "Evaluating batches:  52%|███████████          | 131/250 [00:03<00:02, 39.81it/s]"
     ]
    },
    {
     "name": "stderr",
     "output_type": "stream",
     "text": [
      "\r\n",
      "Evaluating batches:  54%|███████████▍         | 136/250 [00:03<00:02, 40.08it/s]"
     ]
    },
    {
     "name": "stdout",
     "output_type": "stream",
     "text": [
      "  ↳ Processed 130/250 batches\n"
     ]
    },
    {
     "name": "stderr",
     "output_type": "stream",
     "text": [
      "\r\n",
      "Evaluating batches:  56%|███████████▊         | 141/250 [00:03<00:02, 40.01it/s]"
     ]
    },
    {
     "name": "stderr",
     "output_type": "stream",
     "text": [
      "\r\n",
      "Evaluating batches:  58%|████████████▏        | 145/250 [00:03<00:02, 40.00it/s]"
     ]
    },
    {
     "name": "stdout",
     "output_type": "stream",
     "text": [
      "  ↳ Processed 140/250 batches\n"
     ]
    },
    {
     "name": "stderr",
     "output_type": "stream",
     "text": [
      "\r\n",
      "Evaluating batches:  60%|████████████▌        | 149/250 [00:03<00:02, 39.93it/s]"
     ]
    },
    {
     "name": "stderr",
     "output_type": "stream",
     "text": [
      "\r\n",
      "Evaluating batches:  62%|████████████▉        | 154/250 [00:03<00:02, 40.09it/s]"
     ]
    },
    {
     "name": "stdout",
     "output_type": "stream",
     "text": [
      "  ↳ Processed 150/250 batches\n"
     ]
    },
    {
     "name": "stderr",
     "output_type": "stream",
     "text": [
      "\r\n",
      "Evaluating batches:  64%|█████████████▎       | 159/250 [00:03<00:02, 40.11it/s]"
     ]
    },
    {
     "name": "stderr",
     "output_type": "stream",
     "text": [
      "\r\n",
      "Evaluating batches:  66%|█████████████▊       | 164/250 [00:04<00:02, 40.49it/s]"
     ]
    },
    {
     "name": "stdout",
     "output_type": "stream",
     "text": [
      "  ↳ Processed 160/250 batches\n"
     ]
    },
    {
     "name": "stderr",
     "output_type": "stream",
     "text": [
      "\r\n",
      "Evaluating batches:  68%|██████████████▏      | 169/250 [00:04<00:01, 40.78it/s]"
     ]
    },
    {
     "name": "stderr",
     "output_type": "stream",
     "text": [
      "\r\n",
      "Evaluating batches:  70%|██████████████▌      | 174/250 [00:04<00:01, 41.01it/s]"
     ]
    },
    {
     "name": "stdout",
     "output_type": "stream",
     "text": [
      "  ↳ Processed 170/250 batches\n"
     ]
    },
    {
     "name": "stderr",
     "output_type": "stream",
     "text": [
      "\r\n",
      "Evaluating batches:  72%|███████████████      | 179/250 [00:04<00:01, 41.06it/s]"
     ]
    },
    {
     "name": "stderr",
     "output_type": "stream",
     "text": [
      "\r\n",
      "Evaluating batches:  74%|███████████████▍     | 184/250 [00:04<00:01, 41.25it/s]"
     ]
    },
    {
     "name": "stdout",
     "output_type": "stream",
     "text": [
      "  ↳ Processed 180/250 batches\n"
     ]
    },
    {
     "name": "stderr",
     "output_type": "stream",
     "text": [
      "\r\n",
      "Evaluating batches:  76%|███████████████▉     | 189/250 [00:04<00:01, 41.05it/s]"
     ]
    },
    {
     "name": "stderr",
     "output_type": "stream",
     "text": [
      "\r\n",
      "Evaluating batches:  78%|████████████████▎    | 194/250 [00:04<00:01, 41.05it/s]"
     ]
    },
    {
     "name": "stdout",
     "output_type": "stream",
     "text": [
      "  ↳ Processed 190/250 batches\n"
     ]
    },
    {
     "name": "stderr",
     "output_type": "stream",
     "text": [
      "\r\n",
      "Evaluating batches:  80%|████████████████▋    | 199/250 [00:04<00:01, 41.11it/s]"
     ]
    },
    {
     "name": "stderr",
     "output_type": "stream",
     "text": [
      "\r\n",
      "Evaluating batches:  82%|█████████████████▏   | 204/250 [00:05<00:01, 40.88it/s]"
     ]
    },
    {
     "name": "stdout",
     "output_type": "stream",
     "text": [
      "  ↳ Processed 200/250 batches\n"
     ]
    },
    {
     "name": "stderr",
     "output_type": "stream",
     "text": [
      "\r\n",
      "Evaluating batches:  84%|█████████████████▌   | 209/250 [00:05<00:01, 40.62it/s]"
     ]
    },
    {
     "name": "stderr",
     "output_type": "stream",
     "text": [
      "\r\n",
      "Evaluating batches:  86%|█████████████████▉   | 214/250 [00:05<00:00, 40.82it/s]"
     ]
    },
    {
     "name": "stdout",
     "output_type": "stream",
     "text": [
      "  ↳ Processed 210/250 batches\n"
     ]
    },
    {
     "name": "stderr",
     "output_type": "stream",
     "text": [
      "\r\n",
      "Evaluating batches:  88%|██████████████████▍  | 219/250 [00:05<00:00, 40.57it/s]"
     ]
    },
    {
     "name": "stderr",
     "output_type": "stream",
     "text": [
      "\r\n",
      "Evaluating batches:  90%|██████████████████▊  | 224/250 [00:05<00:00, 40.44it/s]"
     ]
    },
    {
     "name": "stdout",
     "output_type": "stream",
     "text": [
      "  ↳ Processed 220/250 batches\n"
     ]
    },
    {
     "name": "stderr",
     "output_type": "stream",
     "text": [
      "\r\n",
      "Evaluating batches:  92%|███████████████████▏ | 229/250 [00:05<00:00, 40.59it/s]"
     ]
    },
    {
     "name": "stderr",
     "output_type": "stream",
     "text": [
      "\r\n",
      "Evaluating batches:  94%|███████████████████▋ | 234/250 [00:05<00:00, 40.55it/s]"
     ]
    },
    {
     "name": "stdout",
     "output_type": "stream",
     "text": [
      "  ↳ Processed 230/250 batches\n"
     ]
    },
    {
     "name": "stderr",
     "output_type": "stream",
     "text": [
      "\r\n",
      "Evaluating batches:  96%|████████████████████ | 239/250 [00:05<00:00, 40.64it/s]"
     ]
    },
    {
     "name": "stderr",
     "output_type": "stream",
     "text": [
      "\r\n",
      "Evaluating batches:  98%|████████████████████▍| 244/250 [00:06<00:00, 40.72it/s]"
     ]
    },
    {
     "name": "stdout",
     "output_type": "stream",
     "text": [
      "  ↳ Processed 240/250 batches\n"
     ]
    },
    {
     "name": "stderr",
     "output_type": "stream",
     "text": [
      "\r\n",
      "Evaluating batches: 100%|████████████████████▉| 249/250 [00:06<00:00, 40.79it/s]"
     ]
    },
    {
     "name": "stderr",
     "output_type": "stream",
     "text": [
      "\r\n",
      "Evaluating batches: 100%|█████████████████████| 250/250 [00:06<00:00, 40.21it/s]"
     ]
    },
    {
     "name": "stdout",
     "output_type": "stream",
     "text": [
      "✅ Evaluation complete - processed 8000 examples\n",
      "✅ Predictions saved to submission.csv\n",
      "\n",
      "Prediction summary:\n",
      "Total predictions: 8000\n",
      "Unique class predictions: [0, 1, 2, 3]\n",
      "Class distribution:\n",
      "0    1571\n",
      "1    1995\n",
      "2    1919\n",
      "3    2515\n",
      "Name: count, dtype: int64\n"
     ]
    },
    {
     "name": "stderr",
     "output_type": "stream",
     "text": [
      "\n"
     ]
    }
   ],
   "source": [
    "#Load your unlabelled data\n",
    "try:\n",
    "    if KAGGLE_ENV:\n",
    "        # Kaggle-specific paths\n",
    "        possible_paths = [\n",
    "            \"/kaggle/input/deep-learning-spring-2025-project-2/test_unlabelled.pkl\",  # Kaggle input path\n",
    "            \"/kaggle/working/test_unlabelled.pkl\",  # Kaggle working directory\n",
    "            \"test_unlabelled.pkl\",  # Current directory\n",
    "            \"./test_unlabelled.pkl\",  # Explicit current directory\n",
    "        ]\n",
    "        \n",
    "        # Try each path until we find the file\n",
    "        test_path = None\n",
    "        for path in possible_paths:\n",
    "            if os.path.exists(path):\n",
    "                test_path = path\n",
    "                break\n",
    "        \n",
    "        if test_path is None:\n",
    "            raise FileNotFoundError(\"Could not find test_unlabelled.pkl in any of the expected Kaggle locations\")\n",
    "        \n",
    "        print(f\"Loading unlabelled test data from {test_path}\")\n",
    "        \n",
    "        # Load the unlabelled test data using pandas\n",
    "        unlabelled_dataset = pd.read_pickle(test_path)\n",
    "    else:\n",
    "        # Non-Kaggle environment - look in data subdirectory\n",
    "        data_dir = \"./data\"  # Adjust based on your directory structure\n",
    "        if not os.path.exists(data_dir):\n",
    "            # Try creating the directory if it doesn't exist\n",
    "            try:\n",
    "                os.makedirs(data_dir, exist_ok=True)\n",
    "                print(f\"Created data directory at {data_dir}\")\n",
    "            except:\n",
    "                print(f\"Could not create {data_dir}, trying other locations\")\n",
    "                \n",
    "            # Try one level up\n",
    "            data_dir = \"../data\"\n",
    "            if not os.path.exists(data_dir):\n",
    "                raise FileNotFoundError(\"Could not find or create the data directory\")\n",
    "        \n",
    "        test_path = os.path.join(data_dir, \"test_unlabelled.pkl\")\n",
    "        if not os.path.exists(test_path):\n",
    "            # Check current directory as last resort\n",
    "            if os.path.exists(\"test_unlabelled.pkl\"):\n",
    "                test_path = \"test_unlabelled.pkl\"\n",
    "            else:\n",
    "                raise FileNotFoundError(f\"Could not find test_unlabelled.pkl in {data_dir} or current directory\")\n",
    "        \n",
    "        print(f\"Loading unlabelled test data from {test_path}\")\n",
    "        \n",
    "        # Use your custom unpickle function for non-Kaggle environment\n",
    "        unlabelled_dataset = unpickle(test_path)\n",
    "    \n",
    "    print(f\"✅ Loaded unlabelled test dataset with {len(unlabelled_dataset['text'])} examples\")\n",
    "    \n",
    "    # Load the unlabelled test data\n",
    "    unlabelled_dataset = pd.read_pickle(test_path)\n",
    "    \n",
    "    print(f\"✅ Loaded unlabelled test dataset with {len(unlabelled_dataset['text'])} examples\")\n",
    "    \n",
    "    # Convert to HuggingFace Dataset\n",
    "    test_dataset = Dataset.from_dict({\"text\": unlabelled_dataset[\"text\"]})\n",
    "    \n",
    "    # Tokenize test data\n",
    "    tokenized_unlabelled = test_dataset.map(preprocess, batched=True, desc=\"Tokenizing unlabelled data\")\n",
    "    tokenized_unlabelled.set_format(\"torch\", columns=[\"input_ids\", \"attention_mask\"])\n",
    "    \n",
    "    # Get predictions\n",
    "    print(\"Generating predictions for unlabelled data...\")\n",
    "\n",
    "    predictions = detailed_model_evaluation(peft_model, tokenized_unlabelled, False, 32, data_collator)\n",
    "    \n",
    "    # Create submission file\n",
    "    df = pd.DataFrame({\n",
    "        \"ID\": range(len(predictions)),\n",
    "        \"label\": predictions.numpy()\n",
    "    })\n",
    "    \n",
    "    # Save to CSV\n",
    "    submission_path = \"submission.csv\"\n",
    "    df.to_csv(submission_path, index=False)\n",
    "    print(f\"✅ Predictions saved to {submission_path}\")\n",
    "    \n",
    "    # Show prediction summary\n",
    "    print(\"\\nPrediction summary:\")\n",
    "    print(f\"Total predictions: {len(predictions)}\")\n",
    "    print(f\"Unique class predictions: {torch.unique(predictions).tolist()}\")\n",
    "    value_counts = pd.Series(predictions.numpy()).value_counts().sort_index()\n",
    "    print(f\"Class distribution:\\n{value_counts}\")\n",
    "    \n",
    "except Exception as e:\n",
    "    print(f\"⚠️ Could not process unlabelled test data: {str(e)}\")"
   ]
  },
  {
   "cell_type": "markdown",
   "id": "e19b91c6",
   "metadata": {
    "papermill": {
     "duration": 0.035834,
     "end_time": "2025-04-17T16:47:59.074151",
     "exception": false,
     "start_time": "2025-04-17T16:47:59.038317",
     "status": "completed"
    },
    "tags": []
   },
   "source": [
    "# Final Report - Project Requirements Verification"
   ]
  },
  {
   "cell_type": "code",
   "execution_count": 28,
   "id": "e60991d3-38b1-4657-8854-408ce66f6b84",
   "metadata": {
    "execution": {
     "iopub.execute_input": "2025-04-17T16:47:59.151730Z",
     "iopub.status.busy": "2025-04-17T16:47:59.151050Z",
     "iopub.status.idle": "2025-04-17T16:47:59.158879Z",
     "shell.execute_reply": "2025-04-17T16:47:59.158371Z"
    },
    "id": "e60991d3-38b1-4657-8854-408ce66f6b84",
    "papermill": {
     "duration": 0.046487,
     "end_time": "2025-04-17T16:47:59.159816",
     "exception": false,
     "start_time": "2025-04-17T16:47:59.113329",
     "status": "completed"
    },
    "tags": []
   },
   "outputs": [
    {
     "name": "stdout",
     "output_type": "stream",
     "text": [
      "\n",
      "================================================================================\n",
      "PROJECT SUMMARY - REQUIREMENT VERIFICATION RESULTS\n",
      "================================================================================\n",
      "Assessment Criteria Results:\n",
      "  1. Modified BERT architecture: ✅ Used RoBERTa base model with LoRA adaptation\n",
      "  2. Parameter count < 1M: ✅ Model has 814,852 trainable parameters\n",
      "  3. Experimented with LoRA settings: ✅ Tested 4 different LoRA configurations\n",
      "  4. Experimented with optimizer: ✅ Used rmsprop optimizer\n",
      "  5. Implemented data filtering: ✅ Filtered out examples based on text length\n",
      "  6. Used learning rate scheduling: ✅ Implemented linear LR schedule with warmup\n",
      "  7. Comprehensive evaluation: ✅ Calculated accuracy, precision, recall, and F1 metrics\n",
      "  8. Target accuracy ≥ 80%: ✅ Achieved 95.16% accuracy on eval set\n",
      "\n",
      "Model Technical Specifications:\n",
      "  Base architecture: RoBERTa\n",
      "  LoRA rank parameter (r): 4\n",
      "  LoRA scaling factor (alpha): 96\n",
      "  Targeted network modules: ['query', 'key', 'value']\n",
      "  Total parameter count: 125,463,560\n",
      "  Trainable parameter count: 814,852 (0.65% of total)\n",
      "\n",
      "Training Configuration:\n",
      "  Optimization algorithm: rmsprop\n",
      "  Learning rate value: 0.0001\n",
      "  Mini-batch size: 48\n",
      "  Training epochs: 30\n",
      "  Regularization factor: 0.005\n",
      "\n",
      "Evaluation Metrics:\n",
      "  eval_loss: 0.3396\n",
      "  eval_accuracy: 0.9516\n",
      "  eval_precision: 0.9516\n",
      "  eval_recall: 0.9516\n",
      "  eval_f1: 0.9515\n",
      "  eval_precision_World: 0.9583\n",
      "  eval_recall_World: 0.9274\n",
      "  eval_f1_World: 0.9426\n",
      "  eval_precision_Sports: 0.9831\n",
      "  eval_recall_Sports: 0.9943\n",
      "  eval_f1_Sports: 0.9886\n",
      "  eval_precision_Business: 0.9383\n",
      "  eval_recall_Business: 0.9212\n",
      "  eval_f1_Business: 0.9297\n",
      "  eval_precision_Sci/Tech: 0.9282\n",
      "  eval_recall_Sci/Tech: 0.9545\n",
      "  eval_f1_Sci/Tech: 0.9412\n",
      "  eval_runtime: 0.7491\n",
      "  eval_samples_per_second: 854.3670\n",
      "  eval_steps_per_second: 13.3490\n",
      "  epoch: 7.9988\n",
      "\n",
      "================================================================================\n",
      "PROJECT SUCCESSFULLY COMPLETED\n",
      "================================================================================\n"
     ]
    }
   ],
   "source": [
    "print(\"\\n\" + \"=\"*80)\n",
    "print(\"PROJECT SUMMARY - REQUIREMENT VERIFICATION RESULTS\")\n",
    "print(\"=\"*80)\n",
    "\n",
    "# Verify all project requirements\n",
    "project_criteria = [\n",
    "    (\"1. Modified BERT architecture\", \"✅ Used RoBERTa base model with LoRA adaptation\"),\n",
    "    (\"2. Parameter count < 1M\", f\"✅ Model has {final_trainable_params:,} trainable parameters\"),\n",
    "    (\"3. Experimented with LoRA settings\", f\"✅ Tested {len(evaluated_options)} different LoRA configurations\"),\n",
    "    (\"4. Experimented with optimizer\", f\"✅ Used {SELECTED_OPTIMIZER} optimizer\"),\n",
    "    (\"5. Implemented data filtering\", \"✅ Filtered out examples based on text length\"),\n",
    "    (\"6. Used learning rate scheduling\", \"✅ Implemented linear LR schedule with warmup\"),\n",
    "    (\"7. Comprehensive evaluation\", \"✅ Calculated accuracy, precision, recall, and F1 metrics\"),\n",
    "    (\"8. Target accuracy ≥ 80%\", f\"✅ Achieved {final_eval_accuracy:.2%} accuracy on eval set\"),\n",
    "]\n",
    "\n",
    "print(\"Assessment Criteria Results:\")\n",
    "for criteria, outcome in project_criteria:\n",
    "    print(f\"  {criteria}: {outcome}\")\n",
    "\n",
    "print(\"\\nModel Technical Specifications:\")\n",
    "print(f\"  Base architecture: RoBERTa\")\n",
    "print(f\"  LoRA rank parameter (r): {final_choice['option']['rank']}\")\n",
    "print(f\"  LoRA scaling factor (alpha): {final_choice['option']['alpha']}\")\n",
    "print(f\"  Targeted network modules: {final_choice['option']['modules']}\")\n",
    "print(f\"  Total parameter count: {final_total_params:,}\")\n",
    "print(f\"  Trainable parameter count: {final_trainable_params:,} ({final_trainable_params/final_total_params:.2%} of total)\")\n",
    "\n",
    "print(\"\\nTraining Configuration:\")\n",
    "print(f\"  Optimization algorithm: {SELECTED_OPTIMIZER}\")\n",
    "print(f\"  Learning rate value: {training_args.learning_rate}\")\n",
    "print(f\"  Mini-batch size: {training_args.per_device_train_batch_size}\")\n",
    "print(f\"  Training epochs: {training_args.num_train_epochs}\")\n",
    "print(f\"  Regularization factor: {training_args.weight_decay}\")\n",
    "\n",
    "print(\"\\nEvaluation Metrics:\")\n",
    "for metric_name, metric_value in eval_results.items():\n",
    "    print(f\"  {metric_name}: {metric_value:.4f}\")\n",
    "\n",
    "print(\"\\n\" + \"=\"*80)\n",
    "print(\"PROJECT SUCCESSFULLY COMPLETED\")\n",
    "print(\"=\"*80)"
   ]
  },
  {
   "cell_type": "code",
   "execution_count": null,
   "id": "06c08650-c96c-49fc-b47f-321f21d93b5e",
   "metadata": {
    "papermill": {
     "duration": 0.048754,
     "end_time": "2025-04-17T16:47:59.241221",
     "exception": false,
     "start_time": "2025-04-17T16:47:59.192467",
     "status": "completed"
    },
    "tags": []
   },
   "outputs": [],
   "source": []
  }
 ],
 "metadata": {
  "accelerator": "GPU",
  "colab": {
   "gpuType": "T4",
   "provenance": []
  },
  "kernelspec": {
   "display_name": "Python 3 (ipykernel)",
   "language": "python",
   "name": "python3"
  },
  "language_info": {
   "codemirror_mode": {
    "name": "ipython",
    "version": 3
   },
   "file_extension": ".py",
   "mimetype": "text/x-python",
   "name": "python",
   "nbconvert_exporter": "python",
   "pygments_lexer": "ipython3",
   "version": "3.12.9"
  },
  "papermill": {
   "default_parameters": {},
   "duration": 2613.709524,
   "end_time": "2025-04-17T16:48:00.694319",
   "environment_variables": {},
   "exception": null,
   "input_path": "DeepLearning-Project2-New.ipynb",
   "output_path": "results/Executed-DeepLearning-Project2-New.ipynb",
   "parameters": {},
   "start_time": "2025-04-17T16:04:26.984795",
   "version": "2.6.0"
  },
  "widgets": {
   "application/vnd.jupyter.widget-state+json": {
    "state": {
     "1197ce3d819c4c3d905bc97976df5358": {
      "model_module": "@jupyter-widgets/controls",
      "model_module_version": "2.0.0",
      "model_name": "HTMLStyleModel",
      "state": {
       "_model_module": "@jupyter-widgets/controls",
       "_model_module_version": "2.0.0",
       "_model_name": "HTMLStyleModel",
       "_view_count": null,
       "_view_module": "@jupyter-widgets/base",
       "_view_module_version": "2.0.0",
       "_view_name": "StyleView",
       "background": null,
       "description_width": "",
       "font_size": null,
       "text_color": null
      }
     },
     "252e3044f3da464d84113d084c690c39": {
      "model_module": "@jupyter-widgets/controls",
      "model_module_version": "2.0.0",
      "model_name": "ProgressStyleModel",
      "state": {
       "_model_module": "@jupyter-widgets/controls",
       "_model_module_version": "2.0.0",
       "_model_name": "ProgressStyleModel",
       "_view_count": null,
       "_view_module": "@jupyter-widgets/base",
       "_view_module_version": "2.0.0",
       "_view_name": "StyleView",
       "bar_color": null,
       "description_width": ""
      }
     },
     "3993e09449894b8180c512b8613b453f": {
      "model_module": "@jupyter-widgets/controls",
      "model_module_version": "2.0.0",
      "model_name": "HTMLStyleModel",
      "state": {
       "_model_module": "@jupyter-widgets/controls",
       "_model_module_version": "2.0.0",
       "_model_name": "HTMLStyleModel",
       "_view_count": null,
       "_view_module": "@jupyter-widgets/base",
       "_view_module_version": "2.0.0",
       "_view_name": "StyleView",
       "background": null,
       "description_width": "",
       "font_size": null,
       "text_color": null
      }
     },
     "6e9753d0cdec4b31a819526bb5f33ee1": {
      "model_module": "@jupyter-widgets/base",
      "model_module_version": "2.0.0",
      "model_name": "LayoutModel",
      "state": {
       "_model_module": "@jupyter-widgets/base",
       "_model_module_version": "2.0.0",
       "_model_name": "LayoutModel",
       "_view_count": null,
       "_view_module": "@jupyter-widgets/base",
       "_view_module_version": "2.0.0",
       "_view_name": "LayoutView",
       "align_content": null,
       "align_items": null,
       "align_self": null,
       "border_bottom": null,
       "border_left": null,
       "border_right": null,
       "border_top": null,
       "bottom": null,
       "display": null,
       "flex": null,
       "flex_flow": null,
       "grid_area": null,
       "grid_auto_columns": null,
       "grid_auto_flow": null,
       "grid_auto_rows": null,
       "grid_column": null,
       "grid_gap": null,
       "grid_row": null,
       "grid_template_areas": null,
       "grid_template_columns": null,
       "grid_template_rows": null,
       "height": null,
       "justify_content": null,
       "justify_items": null,
       "left": null,
       "margin": null,
       "max_height": null,
       "max_width": null,
       "min_height": null,
       "min_width": null,
       "object_fit": null,
       "object_position": null,
       "order": null,
       "overflow": null,
       "padding": null,
       "right": null,
       "top": null,
       "visibility": null,
       "width": null
      }
     },
     "7233f0d78079477f9d45877a13c865b7": {
      "model_module": "@jupyter-widgets/controls",
      "model_module_version": "2.0.0",
      "model_name": "HTMLModel",
      "state": {
       "_dom_classes": [],
       "_model_module": "@jupyter-widgets/controls",
       "_model_module_version": "2.0.0",
       "_model_name": "HTMLModel",
       "_view_count": null,
       "_view_module": "@jupyter-widgets/controls",
       "_view_module_version": "2.0.0",
       "_view_name": "HTMLView",
       "description": "",
       "description_allow_html": false,
       "layout": "IPY_MODEL_9ed887b965ff4f69926d56f78873e962",
       "placeholder": "​",
       "style": "IPY_MODEL_3993e09449894b8180c512b8613b453f",
       "tabbable": null,
       "tooltip": null,
       "value": "Tokenizing unlabelled data: 100%"
      }
     },
     "800c622d66494c0b9175213e90bc6ea4": {
      "model_module": "@jupyter-widgets/controls",
      "model_module_version": "2.0.0",
      "model_name": "HBoxModel",
      "state": {
       "_dom_classes": [],
       "_model_module": "@jupyter-widgets/controls",
       "_model_module_version": "2.0.0",
       "_model_name": "HBoxModel",
       "_view_count": null,
       "_view_module": "@jupyter-widgets/controls",
       "_view_module_version": "2.0.0",
       "_view_name": "HBoxView",
       "box_style": "",
       "children": [
        "IPY_MODEL_7233f0d78079477f9d45877a13c865b7",
        "IPY_MODEL_e6a1145847814c2f86c2b94dc1018575",
        "IPY_MODEL_9514004572074d43a9363c78a078c17b"
       ],
       "layout": "IPY_MODEL_ce97e82030534a76aaa88dcc1333a0c2",
       "tabbable": null,
       "tooltip": null
      }
     },
     "9514004572074d43a9363c78a078c17b": {
      "model_module": "@jupyter-widgets/controls",
      "model_module_version": "2.0.0",
      "model_name": "HTMLModel",
      "state": {
       "_dom_classes": [],
       "_model_module": "@jupyter-widgets/controls",
       "_model_module_version": "2.0.0",
       "_model_name": "HTMLModel",
       "_view_count": null,
       "_view_module": "@jupyter-widgets/controls",
       "_view_module_version": "2.0.0",
       "_view_name": "HTMLView",
       "description": "",
       "description_allow_html": false,
       "layout": "IPY_MODEL_6e9753d0cdec4b31a819526bb5f33ee1",
       "placeholder": "​",
       "style": "IPY_MODEL_1197ce3d819c4c3d905bc97976df5358",
       "tabbable": null,
       "tooltip": null,
       "value": " 8000/8000 [00:05&lt;00:00, 1579.80 examples/s]"
      }
     },
     "9ed887b965ff4f69926d56f78873e962": {
      "model_module": "@jupyter-widgets/base",
      "model_module_version": "2.0.0",
      "model_name": "LayoutModel",
      "state": {
       "_model_module": "@jupyter-widgets/base",
       "_model_module_version": "2.0.0",
       "_model_name": "LayoutModel",
       "_view_count": null,
       "_view_module": "@jupyter-widgets/base",
       "_view_module_version": "2.0.0",
       "_view_name": "LayoutView",
       "align_content": null,
       "align_items": null,
       "align_self": null,
       "border_bottom": null,
       "border_left": null,
       "border_right": null,
       "border_top": null,
       "bottom": null,
       "display": null,
       "flex": null,
       "flex_flow": null,
       "grid_area": null,
       "grid_auto_columns": null,
       "grid_auto_flow": null,
       "grid_auto_rows": null,
       "grid_column": null,
       "grid_gap": null,
       "grid_row": null,
       "grid_template_areas": null,
       "grid_template_columns": null,
       "grid_template_rows": null,
       "height": null,
       "justify_content": null,
       "justify_items": null,
       "left": null,
       "margin": null,
       "max_height": null,
       "max_width": null,
       "min_height": null,
       "min_width": null,
       "object_fit": null,
       "object_position": null,
       "order": null,
       "overflow": null,
       "padding": null,
       "right": null,
       "top": null,
       "visibility": null,
       "width": null
      }
     },
     "b16e9d6c6e374ea9b969941e7b7228ec": {
      "model_module": "@jupyter-widgets/base",
      "model_module_version": "2.0.0",
      "model_name": "LayoutModel",
      "state": {
       "_model_module": "@jupyter-widgets/base",
       "_model_module_version": "2.0.0",
       "_model_name": "LayoutModel",
       "_view_count": null,
       "_view_module": "@jupyter-widgets/base",
       "_view_module_version": "2.0.0",
       "_view_name": "LayoutView",
       "align_content": null,
       "align_items": null,
       "align_self": null,
       "border_bottom": null,
       "border_left": null,
       "border_right": null,
       "border_top": null,
       "bottom": null,
       "display": null,
       "flex": null,
       "flex_flow": null,
       "grid_area": null,
       "grid_auto_columns": null,
       "grid_auto_flow": null,
       "grid_auto_rows": null,
       "grid_column": null,
       "grid_gap": null,
       "grid_row": null,
       "grid_template_areas": null,
       "grid_template_columns": null,
       "grid_template_rows": null,
       "height": null,
       "justify_content": null,
       "justify_items": null,
       "left": null,
       "margin": null,
       "max_height": null,
       "max_width": null,
       "min_height": null,
       "min_width": null,
       "object_fit": null,
       "object_position": null,
       "order": null,
       "overflow": null,
       "padding": null,
       "right": null,
       "top": null,
       "visibility": null,
       "width": null
      }
     },
     "ce97e82030534a76aaa88dcc1333a0c2": {
      "model_module": "@jupyter-widgets/base",
      "model_module_version": "2.0.0",
      "model_name": "LayoutModel",
      "state": {
       "_model_module": "@jupyter-widgets/base",
       "_model_module_version": "2.0.0",
       "_model_name": "LayoutModel",
       "_view_count": null,
       "_view_module": "@jupyter-widgets/base",
       "_view_module_version": "2.0.0",
       "_view_name": "LayoutView",
       "align_content": null,
       "align_items": null,
       "align_self": null,
       "border_bottom": null,
       "border_left": null,
       "border_right": null,
       "border_top": null,
       "bottom": null,
       "display": null,
       "flex": null,
       "flex_flow": null,
       "grid_area": null,
       "grid_auto_columns": null,
       "grid_auto_flow": null,
       "grid_auto_rows": null,
       "grid_column": null,
       "grid_gap": null,
       "grid_row": null,
       "grid_template_areas": null,
       "grid_template_columns": null,
       "grid_template_rows": null,
       "height": null,
       "justify_content": null,
       "justify_items": null,
       "left": null,
       "margin": null,
       "max_height": null,
       "max_width": null,
       "min_height": null,
       "min_width": null,
       "object_fit": null,
       "object_position": null,
       "order": null,
       "overflow": null,
       "padding": null,
       "right": null,
       "top": null,
       "visibility": null,
       "width": null
      }
     },
     "e6a1145847814c2f86c2b94dc1018575": {
      "model_module": "@jupyter-widgets/controls",
      "model_module_version": "2.0.0",
      "model_name": "FloatProgressModel",
      "state": {
       "_dom_classes": [],
       "_model_module": "@jupyter-widgets/controls",
       "_model_module_version": "2.0.0",
       "_model_name": "FloatProgressModel",
       "_view_count": null,
       "_view_module": "@jupyter-widgets/controls",
       "_view_module_version": "2.0.0",
       "_view_name": "ProgressView",
       "bar_style": "success",
       "description": "",
       "description_allow_html": false,
       "layout": "IPY_MODEL_b16e9d6c6e374ea9b969941e7b7228ec",
       "max": 8000,
       "min": 0,
       "orientation": "horizontal",
       "style": "IPY_MODEL_252e3044f3da464d84113d084c690c39",
       "tabbable": null,
       "tooltip": null,
       "value": 8000
      }
     }
    },
    "version_major": 2,
    "version_minor": 0
   }
  }
 },
 "nbformat": 4,
 "nbformat_minor": 5
}
